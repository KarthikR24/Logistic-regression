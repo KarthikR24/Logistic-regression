{
 "cells": [
  {
   "cell_type": "markdown",
   "metadata": {},
   "source": [
    "### Importing Libraries:"
   ]
  },
  {
   "cell_type": "code",
   "execution_count": 1,
   "metadata": {
    "ExecuteTime": {
     "end_time": "2021-02-07T14:15:14.608358Z",
     "start_time": "2021-02-07T14:14:46.046475Z"
    }
   },
   "outputs": [],
   "source": [
    "import pandas as pd\n",
    "import numpy as np\n",
    "import seaborn as sb\n",
    "import matplotlib.pyplot as plt\n",
    "from sklearn.linear_model import LogisticRegression\n",
    "from sklearn import metrics\n",
    "from sklearn.metrics import classification_report\n",
    "import pandas_profiling as pp\n",
    "from sklearn import preprocessing\n",
    "import statsmodels.api as sm\n",
    "from sklearn.metrics import roc_auc_score\n",
    "from sklearn.metrics import roc_curve\n",
    "import seaborn as sns\n",
    "from sklearn.model_selection import train_test_split"
   ]
  },
  {
   "cell_type": "markdown",
   "metadata": {},
   "source": [
    "### Importing Data: "
   ]
  },
  {
   "cell_type": "code",
   "execution_count": 2,
   "metadata": {
    "ExecuteTime": {
     "end_time": "2021-02-07T14:15:19.976647Z",
     "start_time": "2021-02-07T14:15:19.773586Z"
    },
    "scrolled": true
   },
   "outputs": [
    {
     "data": {
      "text/html": [
       "<div>\n",
       "<style scoped>\n",
       "    .dataframe tbody tr th:only-of-type {\n",
       "        vertical-align: middle;\n",
       "    }\n",
       "\n",
       "    .dataframe tbody tr th {\n",
       "        vertical-align: top;\n",
       "    }\n",
       "\n",
       "    .dataframe thead th {\n",
       "        text-align: right;\n",
       "    }\n",
       "</style>\n",
       "<table border=\"1\" class=\"dataframe\">\n",
       "  <thead>\n",
       "    <tr style=\"text-align: right;\">\n",
       "      <th></th>\n",
       "      <th>age</th>\n",
       "      <th>job</th>\n",
       "      <th>marital</th>\n",
       "      <th>education</th>\n",
       "      <th>default</th>\n",
       "      <th>balance</th>\n",
       "      <th>housing</th>\n",
       "      <th>loan</th>\n",
       "      <th>contact</th>\n",
       "      <th>day</th>\n",
       "      <th>month</th>\n",
       "      <th>duration</th>\n",
       "      <th>campaign</th>\n",
       "      <th>pdays</th>\n",
       "      <th>previous</th>\n",
       "      <th>poutcome</th>\n",
       "      <th>y</th>\n",
       "    </tr>\n",
       "  </thead>\n",
       "  <tbody>\n",
       "    <tr>\n",
       "      <th>0</th>\n",
       "      <td>58</td>\n",
       "      <td>management</td>\n",
       "      <td>married</td>\n",
       "      <td>tertiary</td>\n",
       "      <td>no</td>\n",
       "      <td>2143</td>\n",
       "      <td>yes</td>\n",
       "      <td>no</td>\n",
       "      <td>unknown</td>\n",
       "      <td>5</td>\n",
       "      <td>may</td>\n",
       "      <td>261</td>\n",
       "      <td>1</td>\n",
       "      <td>-1</td>\n",
       "      <td>0</td>\n",
       "      <td>unknown</td>\n",
       "      <td>no</td>\n",
       "    </tr>\n",
       "    <tr>\n",
       "      <th>1</th>\n",
       "      <td>44</td>\n",
       "      <td>technician</td>\n",
       "      <td>single</td>\n",
       "      <td>secondary</td>\n",
       "      <td>no</td>\n",
       "      <td>29</td>\n",
       "      <td>yes</td>\n",
       "      <td>no</td>\n",
       "      <td>unknown</td>\n",
       "      <td>5</td>\n",
       "      <td>may</td>\n",
       "      <td>151</td>\n",
       "      <td>1</td>\n",
       "      <td>-1</td>\n",
       "      <td>0</td>\n",
       "      <td>unknown</td>\n",
       "      <td>no</td>\n",
       "    </tr>\n",
       "    <tr>\n",
       "      <th>2</th>\n",
       "      <td>33</td>\n",
       "      <td>entrepreneur</td>\n",
       "      <td>married</td>\n",
       "      <td>secondary</td>\n",
       "      <td>no</td>\n",
       "      <td>2</td>\n",
       "      <td>yes</td>\n",
       "      <td>yes</td>\n",
       "      <td>unknown</td>\n",
       "      <td>5</td>\n",
       "      <td>may</td>\n",
       "      <td>76</td>\n",
       "      <td>1</td>\n",
       "      <td>-1</td>\n",
       "      <td>0</td>\n",
       "      <td>unknown</td>\n",
       "      <td>no</td>\n",
       "    </tr>\n",
       "    <tr>\n",
       "      <th>3</th>\n",
       "      <td>47</td>\n",
       "      <td>blue-collar</td>\n",
       "      <td>married</td>\n",
       "      <td>unknown</td>\n",
       "      <td>no</td>\n",
       "      <td>1506</td>\n",
       "      <td>yes</td>\n",
       "      <td>no</td>\n",
       "      <td>unknown</td>\n",
       "      <td>5</td>\n",
       "      <td>may</td>\n",
       "      <td>92</td>\n",
       "      <td>1</td>\n",
       "      <td>-1</td>\n",
       "      <td>0</td>\n",
       "      <td>unknown</td>\n",
       "      <td>no</td>\n",
       "    </tr>\n",
       "    <tr>\n",
       "      <th>4</th>\n",
       "      <td>33</td>\n",
       "      <td>unknown</td>\n",
       "      <td>single</td>\n",
       "      <td>unknown</td>\n",
       "      <td>no</td>\n",
       "      <td>1</td>\n",
       "      <td>no</td>\n",
       "      <td>no</td>\n",
       "      <td>unknown</td>\n",
       "      <td>5</td>\n",
       "      <td>may</td>\n",
       "      <td>198</td>\n",
       "      <td>1</td>\n",
       "      <td>-1</td>\n",
       "      <td>0</td>\n",
       "      <td>unknown</td>\n",
       "      <td>no</td>\n",
       "    </tr>\n",
       "    <tr>\n",
       "      <th>...</th>\n",
       "      <td>...</td>\n",
       "      <td>...</td>\n",
       "      <td>...</td>\n",
       "      <td>...</td>\n",
       "      <td>...</td>\n",
       "      <td>...</td>\n",
       "      <td>...</td>\n",
       "      <td>...</td>\n",
       "      <td>...</td>\n",
       "      <td>...</td>\n",
       "      <td>...</td>\n",
       "      <td>...</td>\n",
       "      <td>...</td>\n",
       "      <td>...</td>\n",
       "      <td>...</td>\n",
       "      <td>...</td>\n",
       "      <td>...</td>\n",
       "    </tr>\n",
       "    <tr>\n",
       "      <th>45206</th>\n",
       "      <td>51</td>\n",
       "      <td>technician</td>\n",
       "      <td>married</td>\n",
       "      <td>tertiary</td>\n",
       "      <td>no</td>\n",
       "      <td>825</td>\n",
       "      <td>no</td>\n",
       "      <td>no</td>\n",
       "      <td>cellular</td>\n",
       "      <td>17</td>\n",
       "      <td>nov</td>\n",
       "      <td>977</td>\n",
       "      <td>3</td>\n",
       "      <td>-1</td>\n",
       "      <td>0</td>\n",
       "      <td>unknown</td>\n",
       "      <td>yes</td>\n",
       "    </tr>\n",
       "    <tr>\n",
       "      <th>45207</th>\n",
       "      <td>71</td>\n",
       "      <td>retired</td>\n",
       "      <td>divorced</td>\n",
       "      <td>primary</td>\n",
       "      <td>no</td>\n",
       "      <td>1729</td>\n",
       "      <td>no</td>\n",
       "      <td>no</td>\n",
       "      <td>cellular</td>\n",
       "      <td>17</td>\n",
       "      <td>nov</td>\n",
       "      <td>456</td>\n",
       "      <td>2</td>\n",
       "      <td>-1</td>\n",
       "      <td>0</td>\n",
       "      <td>unknown</td>\n",
       "      <td>yes</td>\n",
       "    </tr>\n",
       "    <tr>\n",
       "      <th>45208</th>\n",
       "      <td>72</td>\n",
       "      <td>retired</td>\n",
       "      <td>married</td>\n",
       "      <td>secondary</td>\n",
       "      <td>no</td>\n",
       "      <td>5715</td>\n",
       "      <td>no</td>\n",
       "      <td>no</td>\n",
       "      <td>cellular</td>\n",
       "      <td>17</td>\n",
       "      <td>nov</td>\n",
       "      <td>1127</td>\n",
       "      <td>5</td>\n",
       "      <td>184</td>\n",
       "      <td>3</td>\n",
       "      <td>success</td>\n",
       "      <td>yes</td>\n",
       "    </tr>\n",
       "    <tr>\n",
       "      <th>45209</th>\n",
       "      <td>57</td>\n",
       "      <td>blue-collar</td>\n",
       "      <td>married</td>\n",
       "      <td>secondary</td>\n",
       "      <td>no</td>\n",
       "      <td>668</td>\n",
       "      <td>no</td>\n",
       "      <td>no</td>\n",
       "      <td>telephone</td>\n",
       "      <td>17</td>\n",
       "      <td>nov</td>\n",
       "      <td>508</td>\n",
       "      <td>4</td>\n",
       "      <td>-1</td>\n",
       "      <td>0</td>\n",
       "      <td>unknown</td>\n",
       "      <td>no</td>\n",
       "    </tr>\n",
       "    <tr>\n",
       "      <th>45210</th>\n",
       "      <td>37</td>\n",
       "      <td>entrepreneur</td>\n",
       "      <td>married</td>\n",
       "      <td>secondary</td>\n",
       "      <td>no</td>\n",
       "      <td>2971</td>\n",
       "      <td>no</td>\n",
       "      <td>no</td>\n",
       "      <td>cellular</td>\n",
       "      <td>17</td>\n",
       "      <td>nov</td>\n",
       "      <td>361</td>\n",
       "      <td>2</td>\n",
       "      <td>188</td>\n",
       "      <td>11</td>\n",
       "      <td>other</td>\n",
       "      <td>no</td>\n",
       "    </tr>\n",
       "  </tbody>\n",
       "</table>\n",
       "<p>45211 rows × 17 columns</p>\n",
       "</div>"
      ],
      "text/plain": [
       "       age           job   marital  education default  balance housing loan  \\\n",
       "0       58    management   married   tertiary      no     2143     yes   no   \n",
       "1       44    technician    single  secondary      no       29     yes   no   \n",
       "2       33  entrepreneur   married  secondary      no        2     yes  yes   \n",
       "3       47   blue-collar   married    unknown      no     1506     yes   no   \n",
       "4       33       unknown    single    unknown      no        1      no   no   \n",
       "...    ...           ...       ...        ...     ...      ...     ...  ...   \n",
       "45206   51    technician   married   tertiary      no      825      no   no   \n",
       "45207   71       retired  divorced    primary      no     1729      no   no   \n",
       "45208   72       retired   married  secondary      no     5715      no   no   \n",
       "45209   57   blue-collar   married  secondary      no      668      no   no   \n",
       "45210   37  entrepreneur   married  secondary      no     2971      no   no   \n",
       "\n",
       "         contact  day month  duration  campaign  pdays  previous poutcome    y  \n",
       "0        unknown    5   may       261         1     -1         0  unknown   no  \n",
       "1        unknown    5   may       151         1     -1         0  unknown   no  \n",
       "2        unknown    5   may        76         1     -1         0  unknown   no  \n",
       "3        unknown    5   may        92         1     -1         0  unknown   no  \n",
       "4        unknown    5   may       198         1     -1         0  unknown   no  \n",
       "...          ...  ...   ...       ...       ...    ...       ...      ...  ...  \n",
       "45206   cellular   17   nov       977         3     -1         0  unknown  yes  \n",
       "45207   cellular   17   nov       456         2     -1         0  unknown  yes  \n",
       "45208   cellular   17   nov      1127         5    184         3  success  yes  \n",
       "45209  telephone   17   nov       508         4     -1         0  unknown   no  \n",
       "45210   cellular   17   nov       361         2    188        11    other   no  \n",
       "\n",
       "[45211 rows x 17 columns]"
      ]
     },
     "execution_count": 2,
     "metadata": {},
     "output_type": "execute_result"
    }
   ],
   "source": [
    "raw_data = pd.read_csv(\"bank-full.csv\", sep=\";\")\n",
    "raw_data"
   ]
  },
  {
   "cell_type": "markdown",
   "metadata": {},
   "source": [
    "### Exploratory Data Analysis:"
   ]
  },
  {
   "cell_type": "code",
   "execution_count": 3,
   "metadata": {
    "ExecuteTime": {
     "end_time": "2021-02-07T14:15:25.753052Z",
     "start_time": "2021-02-07T14:15:25.719142Z"
    }
   },
   "outputs": [
    {
     "name": "stdout",
     "output_type": "stream",
     "text": [
      "<class 'pandas.core.frame.DataFrame'>\n",
      "RangeIndex: 45211 entries, 0 to 45210\n",
      "Data columns (total 17 columns):\n",
      " #   Column     Non-Null Count  Dtype \n",
      "---  ------     --------------  ----- \n",
      " 0   age        45211 non-null  int64 \n",
      " 1   job        45211 non-null  object\n",
      " 2   marital    45211 non-null  object\n",
      " 3   education  45211 non-null  object\n",
      " 4   default    45211 non-null  object\n",
      " 5   balance    45211 non-null  int64 \n",
      " 6   housing    45211 non-null  object\n",
      " 7   loan       45211 non-null  object\n",
      " 8   contact    45211 non-null  object\n",
      " 9   day        45211 non-null  int64 \n",
      " 10  month      45211 non-null  object\n",
      " 11  duration   45211 non-null  int64 \n",
      " 12  campaign   45211 non-null  int64 \n",
      " 13  pdays      45211 non-null  int64 \n",
      " 14  previous   45211 non-null  int64 \n",
      " 15  poutcome   45211 non-null  object\n",
      " 16  y          45211 non-null  object\n",
      "dtypes: int64(7), object(10)\n",
      "memory usage: 5.9+ MB\n"
     ]
    }
   ],
   "source": [
    "raw_data.info()"
   ]
  },
  {
   "cell_type": "code",
   "execution_count": 4,
   "metadata": {
    "ExecuteTime": {
     "end_time": "2021-02-07T14:15:30.935647Z",
     "start_time": "2021-02-07T14:15:30.905760Z"
    }
   },
   "outputs": [
    {
     "data": {
      "text/html": [
       "<div>\n",
       "<style scoped>\n",
       "    .dataframe tbody tr th:only-of-type {\n",
       "        vertical-align: middle;\n",
       "    }\n",
       "\n",
       "    .dataframe tbody tr th {\n",
       "        vertical-align: top;\n",
       "    }\n",
       "\n",
       "    .dataframe thead th {\n",
       "        text-align: right;\n",
       "    }\n",
       "</style>\n",
       "<table border=\"1\" class=\"dataframe\">\n",
       "  <thead>\n",
       "    <tr style=\"text-align: right;\">\n",
       "      <th></th>\n",
       "      <th>job</th>\n",
       "      <th>marital</th>\n",
       "      <th>education</th>\n",
       "      <th>default</th>\n",
       "      <th>housing</th>\n",
       "      <th>loan</th>\n",
       "      <th>contact</th>\n",
       "      <th>month</th>\n",
       "      <th>poutcome</th>\n",
       "      <th>y</th>\n",
       "    </tr>\n",
       "  </thead>\n",
       "  <tbody>\n",
       "    <tr>\n",
       "      <th>0</th>\n",
       "      <td>management</td>\n",
       "      <td>married</td>\n",
       "      <td>tertiary</td>\n",
       "      <td>no</td>\n",
       "      <td>yes</td>\n",
       "      <td>no</td>\n",
       "      <td>unknown</td>\n",
       "      <td>may</td>\n",
       "      <td>unknown</td>\n",
       "      <td>no</td>\n",
       "    </tr>\n",
       "    <tr>\n",
       "      <th>1</th>\n",
       "      <td>technician</td>\n",
       "      <td>single</td>\n",
       "      <td>secondary</td>\n",
       "      <td>no</td>\n",
       "      <td>yes</td>\n",
       "      <td>no</td>\n",
       "      <td>unknown</td>\n",
       "      <td>may</td>\n",
       "      <td>unknown</td>\n",
       "      <td>no</td>\n",
       "    </tr>\n",
       "    <tr>\n",
       "      <th>2</th>\n",
       "      <td>entrepreneur</td>\n",
       "      <td>married</td>\n",
       "      <td>secondary</td>\n",
       "      <td>no</td>\n",
       "      <td>yes</td>\n",
       "      <td>yes</td>\n",
       "      <td>unknown</td>\n",
       "      <td>may</td>\n",
       "      <td>unknown</td>\n",
       "      <td>no</td>\n",
       "    </tr>\n",
       "    <tr>\n",
       "      <th>3</th>\n",
       "      <td>blue-collar</td>\n",
       "      <td>married</td>\n",
       "      <td>unknown</td>\n",
       "      <td>no</td>\n",
       "      <td>yes</td>\n",
       "      <td>no</td>\n",
       "      <td>unknown</td>\n",
       "      <td>may</td>\n",
       "      <td>unknown</td>\n",
       "      <td>no</td>\n",
       "    </tr>\n",
       "    <tr>\n",
       "      <th>4</th>\n",
       "      <td>unknown</td>\n",
       "      <td>single</td>\n",
       "      <td>unknown</td>\n",
       "      <td>no</td>\n",
       "      <td>no</td>\n",
       "      <td>no</td>\n",
       "      <td>unknown</td>\n",
       "      <td>may</td>\n",
       "      <td>unknown</td>\n",
       "      <td>no</td>\n",
       "    </tr>\n",
       "    <tr>\n",
       "      <th>...</th>\n",
       "      <td>...</td>\n",
       "      <td>...</td>\n",
       "      <td>...</td>\n",
       "      <td>...</td>\n",
       "      <td>...</td>\n",
       "      <td>...</td>\n",
       "      <td>...</td>\n",
       "      <td>...</td>\n",
       "      <td>...</td>\n",
       "      <td>...</td>\n",
       "    </tr>\n",
       "    <tr>\n",
       "      <th>45206</th>\n",
       "      <td>technician</td>\n",
       "      <td>married</td>\n",
       "      <td>tertiary</td>\n",
       "      <td>no</td>\n",
       "      <td>no</td>\n",
       "      <td>no</td>\n",
       "      <td>cellular</td>\n",
       "      <td>nov</td>\n",
       "      <td>unknown</td>\n",
       "      <td>yes</td>\n",
       "    </tr>\n",
       "    <tr>\n",
       "      <th>45207</th>\n",
       "      <td>retired</td>\n",
       "      <td>divorced</td>\n",
       "      <td>primary</td>\n",
       "      <td>no</td>\n",
       "      <td>no</td>\n",
       "      <td>no</td>\n",
       "      <td>cellular</td>\n",
       "      <td>nov</td>\n",
       "      <td>unknown</td>\n",
       "      <td>yes</td>\n",
       "    </tr>\n",
       "    <tr>\n",
       "      <th>45208</th>\n",
       "      <td>retired</td>\n",
       "      <td>married</td>\n",
       "      <td>secondary</td>\n",
       "      <td>no</td>\n",
       "      <td>no</td>\n",
       "      <td>no</td>\n",
       "      <td>cellular</td>\n",
       "      <td>nov</td>\n",
       "      <td>success</td>\n",
       "      <td>yes</td>\n",
       "    </tr>\n",
       "    <tr>\n",
       "      <th>45209</th>\n",
       "      <td>blue-collar</td>\n",
       "      <td>married</td>\n",
       "      <td>secondary</td>\n",
       "      <td>no</td>\n",
       "      <td>no</td>\n",
       "      <td>no</td>\n",
       "      <td>telephone</td>\n",
       "      <td>nov</td>\n",
       "      <td>unknown</td>\n",
       "      <td>no</td>\n",
       "    </tr>\n",
       "    <tr>\n",
       "      <th>45210</th>\n",
       "      <td>entrepreneur</td>\n",
       "      <td>married</td>\n",
       "      <td>secondary</td>\n",
       "      <td>no</td>\n",
       "      <td>no</td>\n",
       "      <td>no</td>\n",
       "      <td>cellular</td>\n",
       "      <td>nov</td>\n",
       "      <td>other</td>\n",
       "      <td>no</td>\n",
       "    </tr>\n",
       "  </tbody>\n",
       "</table>\n",
       "<p>45211 rows × 10 columns</p>\n",
       "</div>"
      ],
      "text/plain": [
       "                job   marital  education default housing loan    contact  \\\n",
       "0        management   married   tertiary      no     yes   no    unknown   \n",
       "1        technician    single  secondary      no     yes   no    unknown   \n",
       "2      entrepreneur   married  secondary      no     yes  yes    unknown   \n",
       "3       blue-collar   married    unknown      no     yes   no    unknown   \n",
       "4           unknown    single    unknown      no      no   no    unknown   \n",
       "...             ...       ...        ...     ...     ...  ...        ...   \n",
       "45206    technician   married   tertiary      no      no   no   cellular   \n",
       "45207       retired  divorced    primary      no      no   no   cellular   \n",
       "45208       retired   married  secondary      no      no   no   cellular   \n",
       "45209   blue-collar   married  secondary      no      no   no  telephone   \n",
       "45210  entrepreneur   married  secondary      no      no   no   cellular   \n",
       "\n",
       "      month poutcome    y  \n",
       "0       may  unknown   no  \n",
       "1       may  unknown   no  \n",
       "2       may  unknown   no  \n",
       "3       may  unknown   no  \n",
       "4       may  unknown   no  \n",
       "...     ...      ...  ...  \n",
       "45206   nov  unknown  yes  \n",
       "45207   nov  unknown  yes  \n",
       "45208   nov  success  yes  \n",
       "45209   nov  unknown   no  \n",
       "45210   nov    other   no  \n",
       "\n",
       "[45211 rows x 10 columns]"
      ]
     },
     "execution_count": 4,
     "metadata": {},
     "output_type": "execute_result"
    }
   ],
   "source": [
    "# Categorial data\n",
    "cat_data = raw_data.select_dtypes(exclude='number')\n",
    "cat_data"
   ]
  },
  {
   "cell_type": "code",
   "execution_count": 5,
   "metadata": {
    "ExecuteTime": {
     "end_time": "2021-02-07T14:15:35.880232Z",
     "start_time": "2021-02-07T14:15:35.863274Z"
    }
   },
   "outputs": [
    {
     "data": {
      "text/html": [
       "<div>\n",
       "<style scoped>\n",
       "    .dataframe tbody tr th:only-of-type {\n",
       "        vertical-align: middle;\n",
       "    }\n",
       "\n",
       "    .dataframe tbody tr th {\n",
       "        vertical-align: top;\n",
       "    }\n",
       "\n",
       "    .dataframe thead th {\n",
       "        text-align: right;\n",
       "    }\n",
       "</style>\n",
       "<table border=\"1\" class=\"dataframe\">\n",
       "  <thead>\n",
       "    <tr style=\"text-align: right;\">\n",
       "      <th></th>\n",
       "      <th>age</th>\n",
       "      <th>balance</th>\n",
       "      <th>day</th>\n",
       "      <th>duration</th>\n",
       "      <th>campaign</th>\n",
       "      <th>pdays</th>\n",
       "      <th>previous</th>\n",
       "    </tr>\n",
       "  </thead>\n",
       "  <tbody>\n",
       "    <tr>\n",
       "      <th>0</th>\n",
       "      <td>58</td>\n",
       "      <td>2143</td>\n",
       "      <td>5</td>\n",
       "      <td>261</td>\n",
       "      <td>1</td>\n",
       "      <td>-1</td>\n",
       "      <td>0</td>\n",
       "    </tr>\n",
       "    <tr>\n",
       "      <th>1</th>\n",
       "      <td>44</td>\n",
       "      <td>29</td>\n",
       "      <td>5</td>\n",
       "      <td>151</td>\n",
       "      <td>1</td>\n",
       "      <td>-1</td>\n",
       "      <td>0</td>\n",
       "    </tr>\n",
       "    <tr>\n",
       "      <th>2</th>\n",
       "      <td>33</td>\n",
       "      <td>2</td>\n",
       "      <td>5</td>\n",
       "      <td>76</td>\n",
       "      <td>1</td>\n",
       "      <td>-1</td>\n",
       "      <td>0</td>\n",
       "    </tr>\n",
       "    <tr>\n",
       "      <th>3</th>\n",
       "      <td>47</td>\n",
       "      <td>1506</td>\n",
       "      <td>5</td>\n",
       "      <td>92</td>\n",
       "      <td>1</td>\n",
       "      <td>-1</td>\n",
       "      <td>0</td>\n",
       "    </tr>\n",
       "    <tr>\n",
       "      <th>4</th>\n",
       "      <td>33</td>\n",
       "      <td>1</td>\n",
       "      <td>5</td>\n",
       "      <td>198</td>\n",
       "      <td>1</td>\n",
       "      <td>-1</td>\n",
       "      <td>0</td>\n",
       "    </tr>\n",
       "    <tr>\n",
       "      <th>...</th>\n",
       "      <td>...</td>\n",
       "      <td>...</td>\n",
       "      <td>...</td>\n",
       "      <td>...</td>\n",
       "      <td>...</td>\n",
       "      <td>...</td>\n",
       "      <td>...</td>\n",
       "    </tr>\n",
       "    <tr>\n",
       "      <th>45206</th>\n",
       "      <td>51</td>\n",
       "      <td>825</td>\n",
       "      <td>17</td>\n",
       "      <td>977</td>\n",
       "      <td>3</td>\n",
       "      <td>-1</td>\n",
       "      <td>0</td>\n",
       "    </tr>\n",
       "    <tr>\n",
       "      <th>45207</th>\n",
       "      <td>71</td>\n",
       "      <td>1729</td>\n",
       "      <td>17</td>\n",
       "      <td>456</td>\n",
       "      <td>2</td>\n",
       "      <td>-1</td>\n",
       "      <td>0</td>\n",
       "    </tr>\n",
       "    <tr>\n",
       "      <th>45208</th>\n",
       "      <td>72</td>\n",
       "      <td>5715</td>\n",
       "      <td>17</td>\n",
       "      <td>1127</td>\n",
       "      <td>5</td>\n",
       "      <td>184</td>\n",
       "      <td>3</td>\n",
       "    </tr>\n",
       "    <tr>\n",
       "      <th>45209</th>\n",
       "      <td>57</td>\n",
       "      <td>668</td>\n",
       "      <td>17</td>\n",
       "      <td>508</td>\n",
       "      <td>4</td>\n",
       "      <td>-1</td>\n",
       "      <td>0</td>\n",
       "    </tr>\n",
       "    <tr>\n",
       "      <th>45210</th>\n",
       "      <td>37</td>\n",
       "      <td>2971</td>\n",
       "      <td>17</td>\n",
       "      <td>361</td>\n",
       "      <td>2</td>\n",
       "      <td>188</td>\n",
       "      <td>11</td>\n",
       "    </tr>\n",
       "  </tbody>\n",
       "</table>\n",
       "<p>45211 rows × 7 columns</p>\n",
       "</div>"
      ],
      "text/plain": [
       "       age  balance  day  duration  campaign  pdays  previous\n",
       "0       58     2143    5       261         1     -1         0\n",
       "1       44       29    5       151         1     -1         0\n",
       "2       33        2    5        76         1     -1         0\n",
       "3       47     1506    5        92         1     -1         0\n",
       "4       33        1    5       198         1     -1         0\n",
       "...    ...      ...  ...       ...       ...    ...       ...\n",
       "45206   51      825   17       977         3     -1         0\n",
       "45207   71     1729   17       456         2     -1         0\n",
       "45208   72     5715   17      1127         5    184         3\n",
       "45209   57      668   17       508         4     -1         0\n",
       "45210   37     2971   17       361         2    188        11\n",
       "\n",
       "[45211 rows x 7 columns]"
      ]
     },
     "execution_count": 5,
     "metadata": {},
     "output_type": "execute_result"
    }
   ],
   "source": [
    "# Numerical data\n",
    "num_data = raw_data.select_dtypes(include='number')\n",
    "num_data"
   ]
  },
  {
   "cell_type": "code",
   "execution_count": 6,
   "metadata": {
    "ExecuteTime": {
     "end_time": "2021-02-07T14:15:40.684645Z",
     "start_time": "2021-02-07T14:15:40.634745Z"
    }
   },
   "outputs": [
    {
     "data": {
      "text/html": [
       "<div>\n",
       "<style scoped>\n",
       "    .dataframe tbody tr th:only-of-type {\n",
       "        vertical-align: middle;\n",
       "    }\n",
       "\n",
       "    .dataframe tbody tr th {\n",
       "        vertical-align: top;\n",
       "    }\n",
       "\n",
       "    .dataframe thead th {\n",
       "        text-align: right;\n",
       "    }\n",
       "</style>\n",
       "<table border=\"1\" class=\"dataframe\">\n",
       "  <thead>\n",
       "    <tr style=\"text-align: right;\">\n",
       "      <th></th>\n",
       "      <th>count</th>\n",
       "      <th>mean</th>\n",
       "      <th>std</th>\n",
       "      <th>min</th>\n",
       "      <th>25%</th>\n",
       "      <th>50%</th>\n",
       "      <th>75%</th>\n",
       "      <th>max</th>\n",
       "    </tr>\n",
       "  </thead>\n",
       "  <tbody>\n",
       "    <tr>\n",
       "      <th>age</th>\n",
       "      <td>45211.0</td>\n",
       "      <td>40.936210</td>\n",
       "      <td>10.618762</td>\n",
       "      <td>18.0</td>\n",
       "      <td>33.0</td>\n",
       "      <td>39.0</td>\n",
       "      <td>48.0</td>\n",
       "      <td>95.0</td>\n",
       "    </tr>\n",
       "    <tr>\n",
       "      <th>balance</th>\n",
       "      <td>45211.0</td>\n",
       "      <td>1362.272058</td>\n",
       "      <td>3044.765829</td>\n",
       "      <td>-8019.0</td>\n",
       "      <td>72.0</td>\n",
       "      <td>448.0</td>\n",
       "      <td>1428.0</td>\n",
       "      <td>102127.0</td>\n",
       "    </tr>\n",
       "    <tr>\n",
       "      <th>day</th>\n",
       "      <td>45211.0</td>\n",
       "      <td>15.806419</td>\n",
       "      <td>8.322476</td>\n",
       "      <td>1.0</td>\n",
       "      <td>8.0</td>\n",
       "      <td>16.0</td>\n",
       "      <td>21.0</td>\n",
       "      <td>31.0</td>\n",
       "    </tr>\n",
       "    <tr>\n",
       "      <th>duration</th>\n",
       "      <td>45211.0</td>\n",
       "      <td>258.163080</td>\n",
       "      <td>257.527812</td>\n",
       "      <td>0.0</td>\n",
       "      <td>103.0</td>\n",
       "      <td>180.0</td>\n",
       "      <td>319.0</td>\n",
       "      <td>4918.0</td>\n",
       "    </tr>\n",
       "    <tr>\n",
       "      <th>campaign</th>\n",
       "      <td>45211.0</td>\n",
       "      <td>2.763841</td>\n",
       "      <td>3.098021</td>\n",
       "      <td>1.0</td>\n",
       "      <td>1.0</td>\n",
       "      <td>2.0</td>\n",
       "      <td>3.0</td>\n",
       "      <td>63.0</td>\n",
       "    </tr>\n",
       "    <tr>\n",
       "      <th>pdays</th>\n",
       "      <td>45211.0</td>\n",
       "      <td>40.197828</td>\n",
       "      <td>100.128746</td>\n",
       "      <td>-1.0</td>\n",
       "      <td>-1.0</td>\n",
       "      <td>-1.0</td>\n",
       "      <td>-1.0</td>\n",
       "      <td>871.0</td>\n",
       "    </tr>\n",
       "    <tr>\n",
       "      <th>previous</th>\n",
       "      <td>45211.0</td>\n",
       "      <td>0.580323</td>\n",
       "      <td>2.303441</td>\n",
       "      <td>0.0</td>\n",
       "      <td>0.0</td>\n",
       "      <td>0.0</td>\n",
       "      <td>0.0</td>\n",
       "      <td>275.0</td>\n",
       "    </tr>\n",
       "  </tbody>\n",
       "</table>\n",
       "</div>"
      ],
      "text/plain": [
       "            count         mean          std     min    25%    50%     75%  \\\n",
       "age       45211.0    40.936210    10.618762    18.0   33.0   39.0    48.0   \n",
       "balance   45211.0  1362.272058  3044.765829 -8019.0   72.0  448.0  1428.0   \n",
       "day       45211.0    15.806419     8.322476     1.0    8.0   16.0    21.0   \n",
       "duration  45211.0   258.163080   257.527812     0.0  103.0  180.0   319.0   \n",
       "campaign  45211.0     2.763841     3.098021     1.0    1.0    2.0     3.0   \n",
       "pdays     45211.0    40.197828   100.128746    -1.0   -1.0   -1.0    -1.0   \n",
       "previous  45211.0     0.580323     2.303441     0.0    0.0    0.0     0.0   \n",
       "\n",
       "               max  \n",
       "age           95.0  \n",
       "balance   102127.0  \n",
       "day           31.0  \n",
       "duration    4918.0  \n",
       "campaign      63.0  \n",
       "pdays        871.0  \n",
       "previous     275.0  "
      ]
     },
     "execution_count": 6,
     "metadata": {},
     "output_type": "execute_result"
    }
   ],
   "source": [
    "raw_data.describe().T"
   ]
  },
  {
   "cell_type": "markdown",
   "metadata": {},
   "source": [
    "#### the value of pdays if -1 means the person is not contacted. So we can make a new feature i.e. if a person was contacted or not."
   ]
  },
  {
   "cell_type": "code",
   "execution_count": 7,
   "metadata": {
    "ExecuteTime": {
     "end_time": "2021-02-07T14:15:46.957459Z",
     "start_time": "2021-02-07T14:15:45.783458Z"
    }
   },
   "outputs": [
    {
     "data": {
      "text/html": [
       "<div>\n",
       "<style scoped>\n",
       "    .dataframe tbody tr th:only-of-type {\n",
       "        vertical-align: middle;\n",
       "    }\n",
       "\n",
       "    .dataframe tbody tr th {\n",
       "        vertical-align: top;\n",
       "    }\n",
       "\n",
       "    .dataframe thead th {\n",
       "        text-align: right;\n",
       "    }\n",
       "</style>\n",
       "<table border=\"1\" class=\"dataframe\">\n",
       "  <thead>\n",
       "    <tr style=\"text-align: right;\">\n",
       "      <th></th>\n",
       "      <th>age</th>\n",
       "      <th>job</th>\n",
       "      <th>marital</th>\n",
       "      <th>education</th>\n",
       "      <th>default</th>\n",
       "      <th>balance</th>\n",
       "      <th>housing</th>\n",
       "      <th>loan</th>\n",
       "      <th>contact</th>\n",
       "      <th>day</th>\n",
       "      <th>month</th>\n",
       "      <th>duration</th>\n",
       "      <th>campaign</th>\n",
       "      <th>pdays</th>\n",
       "      <th>previous</th>\n",
       "      <th>poutcome</th>\n",
       "      <th>y</th>\n",
       "      <th>pdays_no_contact</th>\n",
       "    </tr>\n",
       "  </thead>\n",
       "  <tbody>\n",
       "    <tr>\n",
       "      <th>0</th>\n",
       "      <td>58</td>\n",
       "      <td>management</td>\n",
       "      <td>married</td>\n",
       "      <td>tertiary</td>\n",
       "      <td>no</td>\n",
       "      <td>2143</td>\n",
       "      <td>yes</td>\n",
       "      <td>no</td>\n",
       "      <td>unknown</td>\n",
       "      <td>5</td>\n",
       "      <td>may</td>\n",
       "      <td>261</td>\n",
       "      <td>1</td>\n",
       "      <td>-1</td>\n",
       "      <td>0</td>\n",
       "      <td>unknown</td>\n",
       "      <td>no</td>\n",
       "      <td>1</td>\n",
       "    </tr>\n",
       "    <tr>\n",
       "      <th>1</th>\n",
       "      <td>44</td>\n",
       "      <td>technician</td>\n",
       "      <td>single</td>\n",
       "      <td>secondary</td>\n",
       "      <td>no</td>\n",
       "      <td>29</td>\n",
       "      <td>yes</td>\n",
       "      <td>no</td>\n",
       "      <td>unknown</td>\n",
       "      <td>5</td>\n",
       "      <td>may</td>\n",
       "      <td>151</td>\n",
       "      <td>1</td>\n",
       "      <td>-1</td>\n",
       "      <td>0</td>\n",
       "      <td>unknown</td>\n",
       "      <td>no</td>\n",
       "      <td>1</td>\n",
       "    </tr>\n",
       "    <tr>\n",
       "      <th>2</th>\n",
       "      <td>33</td>\n",
       "      <td>entrepreneur</td>\n",
       "      <td>married</td>\n",
       "      <td>secondary</td>\n",
       "      <td>no</td>\n",
       "      <td>2</td>\n",
       "      <td>yes</td>\n",
       "      <td>yes</td>\n",
       "      <td>unknown</td>\n",
       "      <td>5</td>\n",
       "      <td>may</td>\n",
       "      <td>76</td>\n",
       "      <td>1</td>\n",
       "      <td>-1</td>\n",
       "      <td>0</td>\n",
       "      <td>unknown</td>\n",
       "      <td>no</td>\n",
       "      <td>1</td>\n",
       "    </tr>\n",
       "    <tr>\n",
       "      <th>3</th>\n",
       "      <td>47</td>\n",
       "      <td>blue-collar</td>\n",
       "      <td>married</td>\n",
       "      <td>unknown</td>\n",
       "      <td>no</td>\n",
       "      <td>1506</td>\n",
       "      <td>yes</td>\n",
       "      <td>no</td>\n",
       "      <td>unknown</td>\n",
       "      <td>5</td>\n",
       "      <td>may</td>\n",
       "      <td>92</td>\n",
       "      <td>1</td>\n",
       "      <td>-1</td>\n",
       "      <td>0</td>\n",
       "      <td>unknown</td>\n",
       "      <td>no</td>\n",
       "      <td>1</td>\n",
       "    </tr>\n",
       "    <tr>\n",
       "      <th>4</th>\n",
       "      <td>33</td>\n",
       "      <td>unknown</td>\n",
       "      <td>single</td>\n",
       "      <td>unknown</td>\n",
       "      <td>no</td>\n",
       "      <td>1</td>\n",
       "      <td>no</td>\n",
       "      <td>no</td>\n",
       "      <td>unknown</td>\n",
       "      <td>5</td>\n",
       "      <td>may</td>\n",
       "      <td>198</td>\n",
       "      <td>1</td>\n",
       "      <td>-1</td>\n",
       "      <td>0</td>\n",
       "      <td>unknown</td>\n",
       "      <td>no</td>\n",
       "      <td>1</td>\n",
       "    </tr>\n",
       "    <tr>\n",
       "      <th>...</th>\n",
       "      <td>...</td>\n",
       "      <td>...</td>\n",
       "      <td>...</td>\n",
       "      <td>...</td>\n",
       "      <td>...</td>\n",
       "      <td>...</td>\n",
       "      <td>...</td>\n",
       "      <td>...</td>\n",
       "      <td>...</td>\n",
       "      <td>...</td>\n",
       "      <td>...</td>\n",
       "      <td>...</td>\n",
       "      <td>...</td>\n",
       "      <td>...</td>\n",
       "      <td>...</td>\n",
       "      <td>...</td>\n",
       "      <td>...</td>\n",
       "      <td>...</td>\n",
       "    </tr>\n",
       "    <tr>\n",
       "      <th>45206</th>\n",
       "      <td>51</td>\n",
       "      <td>technician</td>\n",
       "      <td>married</td>\n",
       "      <td>tertiary</td>\n",
       "      <td>no</td>\n",
       "      <td>825</td>\n",
       "      <td>no</td>\n",
       "      <td>no</td>\n",
       "      <td>cellular</td>\n",
       "      <td>17</td>\n",
       "      <td>nov</td>\n",
       "      <td>977</td>\n",
       "      <td>3</td>\n",
       "      <td>-1</td>\n",
       "      <td>0</td>\n",
       "      <td>unknown</td>\n",
       "      <td>yes</td>\n",
       "      <td>1</td>\n",
       "    </tr>\n",
       "    <tr>\n",
       "      <th>45207</th>\n",
       "      <td>71</td>\n",
       "      <td>retired</td>\n",
       "      <td>divorced</td>\n",
       "      <td>primary</td>\n",
       "      <td>no</td>\n",
       "      <td>1729</td>\n",
       "      <td>no</td>\n",
       "      <td>no</td>\n",
       "      <td>cellular</td>\n",
       "      <td>17</td>\n",
       "      <td>nov</td>\n",
       "      <td>456</td>\n",
       "      <td>2</td>\n",
       "      <td>-1</td>\n",
       "      <td>0</td>\n",
       "      <td>unknown</td>\n",
       "      <td>yes</td>\n",
       "      <td>1</td>\n",
       "    </tr>\n",
       "    <tr>\n",
       "      <th>45208</th>\n",
       "      <td>72</td>\n",
       "      <td>retired</td>\n",
       "      <td>married</td>\n",
       "      <td>secondary</td>\n",
       "      <td>no</td>\n",
       "      <td>5715</td>\n",
       "      <td>no</td>\n",
       "      <td>no</td>\n",
       "      <td>cellular</td>\n",
       "      <td>17</td>\n",
       "      <td>nov</td>\n",
       "      <td>1127</td>\n",
       "      <td>5</td>\n",
       "      <td>184</td>\n",
       "      <td>3</td>\n",
       "      <td>success</td>\n",
       "      <td>yes</td>\n",
       "      <td>0</td>\n",
       "    </tr>\n",
       "    <tr>\n",
       "      <th>45209</th>\n",
       "      <td>57</td>\n",
       "      <td>blue-collar</td>\n",
       "      <td>married</td>\n",
       "      <td>secondary</td>\n",
       "      <td>no</td>\n",
       "      <td>668</td>\n",
       "      <td>no</td>\n",
       "      <td>no</td>\n",
       "      <td>telephone</td>\n",
       "      <td>17</td>\n",
       "      <td>nov</td>\n",
       "      <td>508</td>\n",
       "      <td>4</td>\n",
       "      <td>-1</td>\n",
       "      <td>0</td>\n",
       "      <td>unknown</td>\n",
       "      <td>no</td>\n",
       "      <td>1</td>\n",
       "    </tr>\n",
       "    <tr>\n",
       "      <th>45210</th>\n",
       "      <td>37</td>\n",
       "      <td>entrepreneur</td>\n",
       "      <td>married</td>\n",
       "      <td>secondary</td>\n",
       "      <td>no</td>\n",
       "      <td>2971</td>\n",
       "      <td>no</td>\n",
       "      <td>no</td>\n",
       "      <td>cellular</td>\n",
       "      <td>17</td>\n",
       "      <td>nov</td>\n",
       "      <td>361</td>\n",
       "      <td>2</td>\n",
       "      <td>188</td>\n",
       "      <td>11</td>\n",
       "      <td>other</td>\n",
       "      <td>no</td>\n",
       "      <td>0</td>\n",
       "    </tr>\n",
       "  </tbody>\n",
       "</table>\n",
       "<p>45211 rows × 18 columns</p>\n",
       "</div>"
      ],
      "text/plain": [
       "       age           job   marital  education default  balance housing loan  \\\n",
       "0       58    management   married   tertiary      no     2143     yes   no   \n",
       "1       44    technician    single  secondary      no       29     yes   no   \n",
       "2       33  entrepreneur   married  secondary      no        2     yes  yes   \n",
       "3       47   blue-collar   married    unknown      no     1506     yes   no   \n",
       "4       33       unknown    single    unknown      no        1      no   no   \n",
       "...    ...           ...       ...        ...     ...      ...     ...  ...   \n",
       "45206   51    technician   married   tertiary      no      825      no   no   \n",
       "45207   71       retired  divorced    primary      no     1729      no   no   \n",
       "45208   72       retired   married  secondary      no     5715      no   no   \n",
       "45209   57   blue-collar   married  secondary      no      668      no   no   \n",
       "45210   37  entrepreneur   married  secondary      no     2971      no   no   \n",
       "\n",
       "         contact  day month  duration  campaign  pdays  previous poutcome  \\\n",
       "0        unknown    5   may       261         1     -1         0  unknown   \n",
       "1        unknown    5   may       151         1     -1         0  unknown   \n",
       "2        unknown    5   may        76         1     -1         0  unknown   \n",
       "3        unknown    5   may        92         1     -1         0  unknown   \n",
       "4        unknown    5   may       198         1     -1         0  unknown   \n",
       "...          ...  ...   ...       ...       ...    ...       ...      ...   \n",
       "45206   cellular   17   nov       977         3     -1         0  unknown   \n",
       "45207   cellular   17   nov       456         2     -1         0  unknown   \n",
       "45208   cellular   17   nov      1127         5    184         3  success   \n",
       "45209  telephone   17   nov       508         4     -1         0  unknown   \n",
       "45210   cellular   17   nov       361         2    188        11    other   \n",
       "\n",
       "         y  pdays_no_contact  \n",
       "0       no                 1  \n",
       "1       no                 1  \n",
       "2       no                 1  \n",
       "3       no                 1  \n",
       "4       no                 1  \n",
       "...    ...               ...  \n",
       "45206  yes                 1  \n",
       "45207  yes                 1  \n",
       "45208  yes                 0  \n",
       "45209   no                 1  \n",
       "45210   no                 0  \n",
       "\n",
       "[45211 rows x 18 columns]"
      ]
     },
     "execution_count": 7,
     "metadata": {},
     "output_type": "execute_result"
    }
   ],
   "source": [
    "raw_data[\"pdays_no_contact\"] = (raw_data[\"pdays\"] == -1) * 1\n",
    "raw_data"
   ]
  },
  {
   "cell_type": "code",
   "execution_count": 8,
   "metadata": {
    "ExecuteTime": {
     "end_time": "2021-02-07T14:15:52.768445Z",
     "start_time": "2021-02-07T14:15:52.657924Z"
    }
   },
   "outputs": [
    {
     "name": "stdout",
     "output_type": "stream",
     "text": [
      "job \n",
      "\n",
      "blue-collar      9732\n",
      "management       9458\n",
      "technician       7597\n",
      "admin.           5171\n",
      "services         4154\n",
      "retired          2264\n",
      "self-employed    1579\n",
      "entrepreneur     1487\n",
      "unemployed       1303\n",
      "housemaid        1240\n",
      "student           938\n",
      "unknown           288\n",
      "Name: job, dtype: int64\n",
      "_____________ \n",
      "\n",
      "\n",
      "marital \n",
      "\n",
      "married     27214\n",
      "single      12790\n",
      "divorced     5207\n",
      "Name: marital, dtype: int64\n",
      "_____________ \n",
      "\n",
      "\n",
      "education \n",
      "\n",
      "secondary    23202\n",
      "tertiary     13301\n",
      "primary       6851\n",
      "unknown       1857\n",
      "Name: education, dtype: int64\n",
      "_____________ \n",
      "\n",
      "\n",
      "default \n",
      "\n",
      "no     44396\n",
      "yes      815\n",
      "Name: default, dtype: int64\n",
      "_____________ \n",
      "\n",
      "\n",
      "housing \n",
      "\n",
      "yes    25130\n",
      "no     20081\n",
      "Name: housing, dtype: int64\n",
      "_____________ \n",
      "\n",
      "\n",
      "loan \n",
      "\n",
      "no     37967\n",
      "yes     7244\n",
      "Name: loan, dtype: int64\n",
      "_____________ \n",
      "\n",
      "\n",
      "contact \n",
      "\n",
      "cellular     29285\n",
      "unknown      13020\n",
      "telephone     2906\n",
      "Name: contact, dtype: int64\n",
      "_____________ \n",
      "\n",
      "\n",
      "month \n",
      "\n",
      "may    13766\n",
      "jul     6895\n",
      "aug     6247\n",
      "jun     5341\n",
      "nov     3970\n",
      "apr     2932\n",
      "feb     2649\n",
      "jan     1403\n",
      "oct      738\n",
      "sep      579\n",
      "mar      477\n",
      "dec      214\n",
      "Name: month, dtype: int64\n",
      "_____________ \n",
      "\n",
      "\n",
      "poutcome \n",
      "\n",
      "unknown    36959\n",
      "failure     4901\n",
      "other       1840\n",
      "success     1511\n",
      "Name: poutcome, dtype: int64\n",
      "_____________ \n",
      "\n",
      "\n",
      "y \n",
      "\n",
      "no     39922\n",
      "yes     5289\n",
      "Name: y, dtype: int64\n",
      "_____________ \n",
      "\n",
      "\n"
     ]
    }
   ],
   "source": [
    "# Checking how many values are there in categorical data\n",
    "for col in cat_data:\n",
    "    print(col, \"\\n\")\n",
    "    print(cat_data[col].value_counts())\n",
    "    print(\"_____________\",\"\\n\\n\")"
   ]
  },
  {
   "cell_type": "markdown",
   "metadata": {},
   "source": [
    "#### Is there a balance between yes and no in our data? "
   ]
  },
  {
   "cell_type": "code",
   "execution_count": 9,
   "metadata": {
    "ExecuteTime": {
     "end_time": "2021-02-07T14:15:59.967601Z",
     "start_time": "2021-02-07T14:15:57.761476Z"
    },
    "scrolled": true
   },
   "outputs": [
    {
     "data": {
      "text/plain": [
       "<matplotlib.axes._subplots.AxesSubplot at 0x21dc2f88910>"
      ]
     },
     "execution_count": 9,
     "metadata": {},
     "output_type": "execute_result"
    },
    {
     "data": {
      "image/png": "[encoded data removed]",
      "text/plain": [
       "<Figure size 360x360 with 1 Axes>"
      ]
     },
     "metadata": {
      "needs_background": "light"
     },
     "output_type": "display_data"
    }
   ],
   "source": [
    "plt.rcParams[\"figure.figsize\"] = (5,5)\n",
    "raw_data[\"y\"].value_counts().plot.bar()"
   ]
  },
  {
   "cell_type": "markdown",
   "metadata": {},
   "source": [
    "###### Observation: We can see that the data is imbalanced as there are more No values than Yes values therefor the model may be biased"
   ]
  },
  {
   "cell_type": "code",
   "execution_count": 10,
   "metadata": {
    "ExecuteTime": {
     "end_time": "2021-02-07T14:16:10.309910Z",
     "start_time": "2021-02-07T14:16:05.408854Z"
    }
   },
   "outputs": [
    {
     "data": {
      "image/png": "[encoded data removed]",
      "text/plain": [
       "<Figure size 1296x432 with 1 Axes>"
      ]
     },
     "metadata": {
      "needs_background": "light"
     },
     "output_type": "display_data"
    },
    {
     "data": {
      "image/png": "[encoded data removed]",
      "text/plain": [
       "<Figure size 1296x432 with 1 Axes>"
      ]
     },
     "metadata": {
      "needs_background": "light"
     },
     "output_type": "display_data"
    },
    {
     "data": {
      "image/png": "[encoded data removed]",
      "text/plain": [
       "<Figure size 1296x432 with 1 Axes>"
      ]
     },
     "metadata": {
      "needs_background": "light"
     },
     "output_type": "display_data"
    },
    {
     "data": {
      "image/png": "[encoded data removed]",
      "text/plain": [
       "<Figure size 1296x432 with 1 Axes>"
      ]
     },
     "metadata": {
      "needs_background": "light"
     },
     "output_type": "display_data"
    },
    {
     "data": {
      "image/png": "[encoded data removed]",
      "text/plain": [
       "<Figure size 1296x432 with 1 Axes>"
      ]
     },
     "metadata": {
      "needs_background": "light"
     },
     "output_type": "display_data"
    },
    {
     "data": {
      "image/png": "[encoded data removed]",
      "text/plain": [
       "<Figure size 1296x432 with 1 Axes>"
      ]
     },
     "metadata": {
      "needs_background": "light"
     },
     "output_type": "display_data"
    },
    {
     "data": {
      "image/png": "[encoded data removed]",
      "text/plain": [
       "<Figure size 1296x432 with 1 Axes>"
      ]
     },
     "metadata": {
      "needs_background": "light"
     },
     "output_type": "display_data"
    },
    {
     "data": {
      "image/png": "[encoded data removed]",
      "text/plain": [
       "<Figure size 1296x432 with 1 Axes>"
      ]
     },
     "metadata": {
      "needs_background": "light"
     },
     "output_type": "display_data"
    },
    {
     "data": {
      "image/png": "[encoded data removed]",
      "text/plain": [
       "<Figure size 1296x432 with 1 Axes>"
      ]
     },
     "metadata": {
      "needs_background": "light"
     },
     "output_type": "display_data"
    },
    {
     "data": {
      "image/png": "[encoded data removed]",
      "text/plain": [
       "<Figure size 1296x432 with 1 Axes>"
      ]
     },
     "metadata": {
      "needs_background": "light"
     },
     "output_type": "display_data"
    },
    {
     "data": {
      "image/png": "[encoded data removed]",
      "text/plain": [
       "<Figure size 1296x432 with 1 Axes>"
      ]
     },
     "metadata": {
      "needs_background": "light"
     },
     "output_type": "display_data"
    },
    {
     "data": {
      "image/png": "[encoded data removed]",
      "text/plain": [
       "<Figure size 1296x432 with 1 Axes>"
      ]
     },
     "metadata": {
      "needs_background": "light"
     },
     "output_type": "display_data"
    },
    {
     "data": {
      "image/png": "[encoded data removed]",
      "text/plain": [
       "<Figure size 1296x432 with 1 Axes>"
      ]
     },
     "metadata": {
      "needs_background": "light"
     },
     "output_type": "display_data"
    },
    {
     "data": {
      "image/png": "[encoded data removed]",
      "text/plain": [
       "<Figure size 1296x432 with 1 Axes>"
      ]
     },
     "metadata": {
      "needs_background": "light"
     },
     "output_type": "display_data"
    }
   ],
   "source": [
    "# Visualizing the data to see if there is any relation of the dependant variable with the independant variables\n",
    "not_plot = [\"balance\", \"duration\", \"pdays\", \"y\"] # not plotting this due to high data and y as it is dependant\n",
    "\n",
    "for col in raw_data.columns:\n",
    "    if col not in not_plot:  \n",
    "        plt.rcParams[\"figure.figsize\"] = (18,6)\n",
    "        pd.crosstab(raw_data[col],raw_data.y).plot(kind=\"bar\")"
   ]
  },
  {
   "cell_type": "code",
   "execution_count": 11,
   "metadata": {
    "ExecuteTime": {
     "end_time": "2021-02-07T14:16:48.454136Z",
     "start_time": "2021-02-07T14:16:16.988446Z"
    }
   },
   "outputs": [
    {
     "data": {
      "application/vnd.jupyter.widget-view+json": {
       "model_id": "beba72258d544f82bbe43fab33c60eed",
       "version_major": 2,
       "version_minor": 0
      },
      "text/plain": [
       "HBox(children=(FloatProgress(value=0.0, description='Summarize dataset', max=32.0, style=ProgressStyle(descrip…"
      ]
     },
     "metadata": {},
     "output_type": "display_data"
    },
    {
     "name": "stdout",
     "output_type": "stream",
     "text": [
      "\n"
     ]
    },
    {
     "data": {
      "application/vnd.jupyter.widget-view+json": {
       "model_id": "6a2b79c4442049e580bd65a955f9d073",
       "version_major": 2,
       "version_minor": 0
      },
      "text/plain": [
       "HBox(children=(FloatProgress(value=0.0, description='Generate report structure', max=1.0, style=ProgressStyle(…"
      ]
     },
     "metadata": {},
     "output_type": "display_data"
    },
    {
     "name": "stdout",
     "output_type": "stream",
     "text": [
      "\n"
     ]
    },
    {
     "data": {
      "application/vnd.jupyter.widget-view+json": {
       "model_id": "ea5e7d6c73314ced84039aa30ece9a87",
       "version_major": 2,
       "version_minor": 0
      },
      "text/plain": [
       "HBox(children=(FloatProgress(value=0.0, description='Render HTML', max=1.0, style=ProgressStyle(description_wi…"
      ]
     },
     "metadata": {},
     "output_type": "display_data"
    },
    {
     "name": "stdout",
     "output_type": "stream",
     "text": [
      "\n"
     ]
    },
    {
     "data": {
      "application/vnd.jupyter.widget-view+json": {
       "model_id": "3aeaaa4c703a4d54bd7a26da9878c4f3",
       "version_major": 2,
       "version_minor": 0
      },
      "text/plain": [
       "HBox(children=(FloatProgress(value=0.0, description='Export report to file', max=1.0, style=ProgressStyle(desc…"
      ]
     },
     "metadata": {},
     "output_type": "display_data"
    },
    {
     "name": "stdout",
     "output_type": "stream",
     "text": [
      "\n"
     ]
    }
   ],
   "source": [
    "# Quick EDA. The file with all the EDA can be found in the root folder\n",
    "EDA_report= pp.ProfileReport(raw_data)\n",
    "EDA_report.to_file(output_file='EDA_report.html')"
   ]
  },
  {
   "cell_type": "code",
   "execution_count": 12,
   "metadata": {
    "ExecuteTime": {
     "end_time": "2021-02-07T14:17:49.038382Z",
     "start_time": "2021-02-07T14:17:48.961585Z"
    }
   },
   "outputs": [
    {
     "data": {
      "text/html": [
       "<div>\n",
       "<style scoped>\n",
       "    .dataframe tbody tr th:only-of-type {\n",
       "        vertical-align: middle;\n",
       "    }\n",
       "\n",
       "    .dataframe tbody tr th {\n",
       "        vertical-align: top;\n",
       "    }\n",
       "\n",
       "    .dataframe thead th {\n",
       "        text-align: right;\n",
       "    }\n",
       "</style>\n",
       "<table border=\"1\" class=\"dataframe\">\n",
       "  <thead>\n",
       "    <tr style=\"text-align: right;\">\n",
       "      <th></th>\n",
       "      <th>age</th>\n",
       "      <th>job</th>\n",
       "      <th>marital</th>\n",
       "      <th>education</th>\n",
       "      <th>default</th>\n",
       "      <th>balance</th>\n",
       "      <th>housing</th>\n",
       "      <th>loan</th>\n",
       "      <th>contact</th>\n",
       "      <th>day</th>\n",
       "      <th>month</th>\n",
       "      <th>duration</th>\n",
       "      <th>campaign</th>\n",
       "      <th>pdays</th>\n",
       "      <th>previous</th>\n",
       "      <th>poutcome</th>\n",
       "      <th>y</th>\n",
       "      <th>pdays_no_contact</th>\n",
       "    </tr>\n",
       "  </thead>\n",
       "  <tbody>\n",
       "    <tr>\n",
       "      <th>0</th>\n",
       "      <td>58</td>\n",
       "      <td>management</td>\n",
       "      <td>married</td>\n",
       "      <td>tertiary</td>\n",
       "      <td>1</td>\n",
       "      <td>2143</td>\n",
       "      <td>1</td>\n",
       "      <td>0</td>\n",
       "      <td>unknown</td>\n",
       "      <td>5</td>\n",
       "      <td>may</td>\n",
       "      <td>261</td>\n",
       "      <td>1</td>\n",
       "      <td>-1</td>\n",
       "      <td>0</td>\n",
       "      <td>unknown</td>\n",
       "      <td>0</td>\n",
       "      <td>1</td>\n",
       "    </tr>\n",
       "    <tr>\n",
       "      <th>1</th>\n",
       "      <td>44</td>\n",
       "      <td>technician</td>\n",
       "      <td>single</td>\n",
       "      <td>secondary</td>\n",
       "      <td>1</td>\n",
       "      <td>29</td>\n",
       "      <td>1</td>\n",
       "      <td>0</td>\n",
       "      <td>unknown</td>\n",
       "      <td>5</td>\n",
       "      <td>may</td>\n",
       "      <td>151</td>\n",
       "      <td>1</td>\n",
       "      <td>-1</td>\n",
       "      <td>0</td>\n",
       "      <td>unknown</td>\n",
       "      <td>0</td>\n",
       "      <td>1</td>\n",
       "    </tr>\n",
       "    <tr>\n",
       "      <th>2</th>\n",
       "      <td>33</td>\n",
       "      <td>entrepreneur</td>\n",
       "      <td>married</td>\n",
       "      <td>secondary</td>\n",
       "      <td>1</td>\n",
       "      <td>2</td>\n",
       "      <td>1</td>\n",
       "      <td>1</td>\n",
       "      <td>unknown</td>\n",
       "      <td>5</td>\n",
       "      <td>may</td>\n",
       "      <td>76</td>\n",
       "      <td>1</td>\n",
       "      <td>-1</td>\n",
       "      <td>0</td>\n",
       "      <td>unknown</td>\n",
       "      <td>0</td>\n",
       "      <td>1</td>\n",
       "    </tr>\n",
       "    <tr>\n",
       "      <th>3</th>\n",
       "      <td>47</td>\n",
       "      <td>blue-collar</td>\n",
       "      <td>married</td>\n",
       "      <td>unknown</td>\n",
       "      <td>1</td>\n",
       "      <td>1506</td>\n",
       "      <td>1</td>\n",
       "      <td>0</td>\n",
       "      <td>unknown</td>\n",
       "      <td>5</td>\n",
       "      <td>may</td>\n",
       "      <td>92</td>\n",
       "      <td>1</td>\n",
       "      <td>-1</td>\n",
       "      <td>0</td>\n",
       "      <td>unknown</td>\n",
       "      <td>0</td>\n",
       "      <td>1</td>\n",
       "    </tr>\n",
       "    <tr>\n",
       "      <th>4</th>\n",
       "      <td>33</td>\n",
       "      <td>unknown</td>\n",
       "      <td>single</td>\n",
       "      <td>unknown</td>\n",
       "      <td>1</td>\n",
       "      <td>1</td>\n",
       "      <td>0</td>\n",
       "      <td>0</td>\n",
       "      <td>unknown</td>\n",
       "      <td>5</td>\n",
       "      <td>may</td>\n",
       "      <td>198</td>\n",
       "      <td>1</td>\n",
       "      <td>-1</td>\n",
       "      <td>0</td>\n",
       "      <td>unknown</td>\n",
       "      <td>0</td>\n",
       "      <td>1</td>\n",
       "    </tr>\n",
       "    <tr>\n",
       "      <th>...</th>\n",
       "      <td>...</td>\n",
       "      <td>...</td>\n",
       "      <td>...</td>\n",
       "      <td>...</td>\n",
       "      <td>...</td>\n",
       "      <td>...</td>\n",
       "      <td>...</td>\n",
       "      <td>...</td>\n",
       "      <td>...</td>\n",
       "      <td>...</td>\n",
       "      <td>...</td>\n",
       "      <td>...</td>\n",
       "      <td>...</td>\n",
       "      <td>...</td>\n",
       "      <td>...</td>\n",
       "      <td>...</td>\n",
       "      <td>...</td>\n",
       "      <td>...</td>\n",
       "    </tr>\n",
       "    <tr>\n",
       "      <th>45206</th>\n",
       "      <td>51</td>\n",
       "      <td>technician</td>\n",
       "      <td>married</td>\n",
       "      <td>tertiary</td>\n",
       "      <td>1</td>\n",
       "      <td>825</td>\n",
       "      <td>0</td>\n",
       "      <td>0</td>\n",
       "      <td>cellular</td>\n",
       "      <td>17</td>\n",
       "      <td>nov</td>\n",
       "      <td>977</td>\n",
       "      <td>3</td>\n",
       "      <td>-1</td>\n",
       "      <td>0</td>\n",
       "      <td>unknown</td>\n",
       "      <td>1</td>\n",
       "      <td>1</td>\n",
       "    </tr>\n",
       "    <tr>\n",
       "      <th>45207</th>\n",
       "      <td>71</td>\n",
       "      <td>retired</td>\n",
       "      <td>divorced</td>\n",
       "      <td>primary</td>\n",
       "      <td>1</td>\n",
       "      <td>1729</td>\n",
       "      <td>0</td>\n",
       "      <td>0</td>\n",
       "      <td>cellular</td>\n",
       "      <td>17</td>\n",
       "      <td>nov</td>\n",
       "      <td>456</td>\n",
       "      <td>2</td>\n",
       "      <td>-1</td>\n",
       "      <td>0</td>\n",
       "      <td>unknown</td>\n",
       "      <td>1</td>\n",
       "      <td>1</td>\n",
       "    </tr>\n",
       "    <tr>\n",
       "      <th>45208</th>\n",
       "      <td>72</td>\n",
       "      <td>retired</td>\n",
       "      <td>married</td>\n",
       "      <td>secondary</td>\n",
       "      <td>1</td>\n",
       "      <td>5715</td>\n",
       "      <td>0</td>\n",
       "      <td>0</td>\n",
       "      <td>cellular</td>\n",
       "      <td>17</td>\n",
       "      <td>nov</td>\n",
       "      <td>1127</td>\n",
       "      <td>5</td>\n",
       "      <td>184</td>\n",
       "      <td>3</td>\n",
       "      <td>success</td>\n",
       "      <td>1</td>\n",
       "      <td>0</td>\n",
       "    </tr>\n",
       "    <tr>\n",
       "      <th>45209</th>\n",
       "      <td>57</td>\n",
       "      <td>blue-collar</td>\n",
       "      <td>married</td>\n",
       "      <td>secondary</td>\n",
       "      <td>1</td>\n",
       "      <td>668</td>\n",
       "      <td>0</td>\n",
       "      <td>0</td>\n",
       "      <td>telephone</td>\n",
       "      <td>17</td>\n",
       "      <td>nov</td>\n",
       "      <td>508</td>\n",
       "      <td>4</td>\n",
       "      <td>-1</td>\n",
       "      <td>0</td>\n",
       "      <td>unknown</td>\n",
       "      <td>0</td>\n",
       "      <td>1</td>\n",
       "    </tr>\n",
       "    <tr>\n",
       "      <th>45210</th>\n",
       "      <td>37</td>\n",
       "      <td>entrepreneur</td>\n",
       "      <td>married</td>\n",
       "      <td>secondary</td>\n",
       "      <td>1</td>\n",
       "      <td>2971</td>\n",
       "      <td>0</td>\n",
       "      <td>0</td>\n",
       "      <td>cellular</td>\n",
       "      <td>17</td>\n",
       "      <td>nov</td>\n",
       "      <td>361</td>\n",
       "      <td>2</td>\n",
       "      <td>188</td>\n",
       "      <td>11</td>\n",
       "      <td>other</td>\n",
       "      <td>0</td>\n",
       "      <td>0</td>\n",
       "    </tr>\n",
       "  </tbody>\n",
       "</table>\n",
       "<p>45211 rows × 18 columns</p>\n",
       "</div>"
      ],
      "text/plain": [
       "       age           job   marital  education  default  balance  housing  \\\n",
       "0       58    management   married   tertiary        1     2143        1   \n",
       "1       44    technician    single  secondary        1       29        1   \n",
       "2       33  entrepreneur   married  secondary        1        2        1   \n",
       "3       47   blue-collar   married    unknown        1     1506        1   \n",
       "4       33       unknown    single    unknown        1        1        0   \n",
       "...    ...           ...       ...        ...      ...      ...      ...   \n",
       "45206   51    technician   married   tertiary        1      825        0   \n",
       "45207   71       retired  divorced    primary        1     1729        0   \n",
       "45208   72       retired   married  secondary        1     5715        0   \n",
       "45209   57   blue-collar   married  secondary        1      668        0   \n",
       "45210   37  entrepreneur   married  secondary        1     2971        0   \n",
       "\n",
       "       loan    contact  day month  duration  campaign  pdays  previous  \\\n",
       "0         0    unknown    5   may       261         1     -1         0   \n",
       "1         0    unknown    5   may       151         1     -1         0   \n",
       "2         1    unknown    5   may        76         1     -1         0   \n",
       "3         0    unknown    5   may        92         1     -1         0   \n",
       "4         0    unknown    5   may       198         1     -1         0   \n",
       "...     ...        ...  ...   ...       ...       ...    ...       ...   \n",
       "45206     0   cellular   17   nov       977         3     -1         0   \n",
       "45207     0   cellular   17   nov       456         2     -1         0   \n",
       "45208     0   cellular   17   nov      1127         5    184         3   \n",
       "45209     0  telephone   17   nov       508         4     -1         0   \n",
       "45210     0   cellular   17   nov       361         2    188        11   \n",
       "\n",
       "      poutcome  y  pdays_no_contact  \n",
       "0      unknown  0                 1  \n",
       "1      unknown  0                 1  \n",
       "2      unknown  0                 1  \n",
       "3      unknown  0                 1  \n",
       "4      unknown  0                 1  \n",
       "...        ... ..               ...  \n",
       "45206  unknown  1                 1  \n",
       "45207  unknown  1                 1  \n",
       "45208  success  1                 0  \n",
       "45209  unknown  0                 1  \n",
       "45210    other  0                 0  \n",
       "\n",
       "[45211 rows x 18 columns]"
      ]
     },
     "execution_count": 12,
     "metadata": {},
     "output_type": "execute_result"
    }
   ],
   "source": [
    "# Changing the Binary categorical data to 0 & 1\n",
    "data = raw_data.copy()\n",
    "data[\"housing\"] = data[\"housing\"].map({\"yes\":1, \"no\":0})\n",
    "data[\"loan\"] = data[\"loan\"].map({\"yes\":1, \"no\":0})\n",
    "data[\"y\"] = data[\"y\"].map({\"yes\":1, \"no\":0})\n",
    "data[\"default\"] = data[\"default\"].map({\"yes\":0, \"no\":1})\n",
    "data"
   ]
  },
  {
   "cell_type": "code",
   "execution_count": 13,
   "metadata": {
    "ExecuteTime": {
     "end_time": "2021-02-07T14:17:58.275164Z",
     "start_time": "2021-02-07T14:17:57.458053Z"
    }
   },
   "outputs": [
    {
     "data": {
      "text/plain": [
       "<matplotlib.axes._subplots.AxesSubplot at 0x21dc792aa90>"
      ]
     },
     "execution_count": 13,
     "metadata": {},
     "output_type": "execute_result"
    },
    {
     "data": {
      "image/png": "[encoded data removed]",
      "text/plain": [
       "<Figure size 1080x576 with 2 Axes>"
      ]
     },
     "metadata": {
      "needs_background": "light"
     },
     "output_type": "display_data"
    }
   ],
   "source": [
    "# Checking the correlation\n",
    "fig, ax = plt.subplots(figsize=(15,8))\n",
    "sns.heatmap(data.corr(), annot=True, ax=ax)"
   ]
  },
  {
   "cell_type": "code",
   "execution_count": 14,
   "metadata": {
    "ExecuteTime": {
     "end_time": "2021-02-07T14:18:05.369619Z",
     "start_time": "2021-02-07T14:18:05.313768Z"
    }
   },
   "outputs": [],
   "source": [
    "# getting the dummies for the rest of the categorical data\n",
    "\n",
    "data = pd.get_dummies(data, columns=[\"job\", \"marital\", \"education\", \"housing\", \"loan\", \"contact\", \"month\", \"poutcome\"], drop_first=True)"
   ]
  },
  {
   "cell_type": "markdown",
   "metadata": {},
   "source": [
    "### Training the logistic regression model:"
   ]
  },
  {
   "cell_type": "code",
   "execution_count": 15,
   "metadata": {
    "ExecuteTime": {
     "end_time": "2021-02-07T14:18:12.789546Z",
     "start_time": "2021-02-07T14:18:12.757632Z"
    }
   },
   "outputs": [],
   "source": [
    "x = data.loc[:,data.columns != \"y\"]\n",
    "y = data[\"y\"]\n",
    "\n",
    "x_train,x_test,y_train,y_test = train_test_split(x,y, test_size = 0.3, random_state = 0)"
   ]
  },
  {
   "cell_type": "code",
   "execution_count": 16,
   "metadata": {
    "ExecuteTime": {
     "end_time": "2021-02-07T14:18:17.522217Z",
     "start_time": "2021-02-07T14:18:17.419387Z"
    }
   },
   "outputs": [],
   "source": [
    "scaler = preprocessing.StandardScaler()\n",
    "x_train = scaler.fit_transform(x_train)\n",
    "x_test = scaler.transform(x_test)"
   ]
  },
  {
   "cell_type": "code",
   "execution_count": 17,
   "metadata": {
    "ExecuteTime": {
     "end_time": "2021-02-07T14:18:23.166696Z",
     "start_time": "2021-02-07T14:18:22.862851Z"
    }
   },
   "outputs": [
    {
     "data": {
      "text/plain": [
       "LogisticRegression()"
      ]
     },
     "execution_count": 17,
     "metadata": {},
     "output_type": "execute_result"
    }
   ],
   "source": [
    "log_reg_model = LogisticRegression()\n",
    "log_reg_model.fit(x_train,y_train)"
   ]
  },
  {
   "cell_type": "markdown",
   "metadata": {},
   "source": [
    "#### Prediction:"
   ]
  },
  {
   "cell_type": "code",
   "execution_count": 18,
   "metadata": {
    "ExecuteTime": {
     "end_time": "2021-02-07T14:18:26.704722Z",
     "start_time": "2021-02-07T14:18:26.551602Z"
    }
   },
   "outputs": [
    {
     "data": {
      "text/html": [
       "<div>\n",
       "<style scoped>\n",
       "    .dataframe tbody tr th:only-of-type {\n",
       "        vertical-align: middle;\n",
       "    }\n",
       "\n",
       "    .dataframe tbody tr th {\n",
       "        vertical-align: top;\n",
       "    }\n",
       "\n",
       "    .dataframe thead th {\n",
       "        text-align: right;\n",
       "    }\n",
       "</style>\n",
       "<table border=\"1\" class=\"dataframe\">\n",
       "  <thead>\n",
       "    <tr style=\"text-align: right;\">\n",
       "      <th></th>\n",
       "      <th>age</th>\n",
       "      <th>default</th>\n",
       "      <th>balance</th>\n",
       "      <th>day</th>\n",
       "      <th>duration</th>\n",
       "      <th>campaign</th>\n",
       "      <th>pdays</th>\n",
       "      <th>previous</th>\n",
       "      <th>y</th>\n",
       "      <th>pdays_no_contact</th>\n",
       "      <th>...</th>\n",
       "      <th>month_jun</th>\n",
       "      <th>month_mar</th>\n",
       "      <th>month_may</th>\n",
       "      <th>month_nov</th>\n",
       "      <th>month_oct</th>\n",
       "      <th>month_sep</th>\n",
       "      <th>poutcome_other</th>\n",
       "      <th>poutcome_success</th>\n",
       "      <th>poutcome_unknown</th>\n",
       "      <th>predicted</th>\n",
       "    </tr>\n",
       "  </thead>\n",
       "  <tbody>\n",
       "    <tr>\n",
       "      <th>0</th>\n",
       "      <td>58</td>\n",
       "      <td>1</td>\n",
       "      <td>2143</td>\n",
       "      <td>5</td>\n",
       "      <td>261</td>\n",
       "      <td>1</td>\n",
       "      <td>-1</td>\n",
       "      <td>0</td>\n",
       "      <td>0</td>\n",
       "      <td>1</td>\n",
       "      <td>...</td>\n",
       "      <td>0</td>\n",
       "      <td>0</td>\n",
       "      <td>1</td>\n",
       "      <td>0</td>\n",
       "      <td>0</td>\n",
       "      <td>0</td>\n",
       "      <td>0</td>\n",
       "      <td>0</td>\n",
       "      <td>1</td>\n",
       "      <td>0</td>\n",
       "    </tr>\n",
       "    <tr>\n",
       "      <th>1</th>\n",
       "      <td>44</td>\n",
       "      <td>1</td>\n",
       "      <td>29</td>\n",
       "      <td>5</td>\n",
       "      <td>151</td>\n",
       "      <td>1</td>\n",
       "      <td>-1</td>\n",
       "      <td>0</td>\n",
       "      <td>0</td>\n",
       "      <td>1</td>\n",
       "      <td>...</td>\n",
       "      <td>0</td>\n",
       "      <td>0</td>\n",
       "      <td>1</td>\n",
       "      <td>0</td>\n",
       "      <td>0</td>\n",
       "      <td>0</td>\n",
       "      <td>0</td>\n",
       "      <td>0</td>\n",
       "      <td>1</td>\n",
       "      <td>0</td>\n",
       "    </tr>\n",
       "    <tr>\n",
       "      <th>2</th>\n",
       "      <td>33</td>\n",
       "      <td>1</td>\n",
       "      <td>2</td>\n",
       "      <td>5</td>\n",
       "      <td>76</td>\n",
       "      <td>1</td>\n",
       "      <td>-1</td>\n",
       "      <td>0</td>\n",
       "      <td>0</td>\n",
       "      <td>1</td>\n",
       "      <td>...</td>\n",
       "      <td>0</td>\n",
       "      <td>0</td>\n",
       "      <td>1</td>\n",
       "      <td>0</td>\n",
       "      <td>0</td>\n",
       "      <td>0</td>\n",
       "      <td>0</td>\n",
       "      <td>0</td>\n",
       "      <td>1</td>\n",
       "      <td>0</td>\n",
       "    </tr>\n",
       "    <tr>\n",
       "      <th>3</th>\n",
       "      <td>47</td>\n",
       "      <td>1</td>\n",
       "      <td>1506</td>\n",
       "      <td>5</td>\n",
       "      <td>92</td>\n",
       "      <td>1</td>\n",
       "      <td>-1</td>\n",
       "      <td>0</td>\n",
       "      <td>0</td>\n",
       "      <td>1</td>\n",
       "      <td>...</td>\n",
       "      <td>0</td>\n",
       "      <td>0</td>\n",
       "      <td>1</td>\n",
       "      <td>0</td>\n",
       "      <td>0</td>\n",
       "      <td>0</td>\n",
       "      <td>0</td>\n",
       "      <td>0</td>\n",
       "      <td>1</td>\n",
       "      <td>0</td>\n",
       "    </tr>\n",
       "    <tr>\n",
       "      <th>4</th>\n",
       "      <td>33</td>\n",
       "      <td>1</td>\n",
       "      <td>1</td>\n",
       "      <td>5</td>\n",
       "      <td>198</td>\n",
       "      <td>1</td>\n",
       "      <td>-1</td>\n",
       "      <td>0</td>\n",
       "      <td>0</td>\n",
       "      <td>1</td>\n",
       "      <td>...</td>\n",
       "      <td>0</td>\n",
       "      <td>0</td>\n",
       "      <td>1</td>\n",
       "      <td>0</td>\n",
       "      <td>0</td>\n",
       "      <td>0</td>\n",
       "      <td>0</td>\n",
       "      <td>0</td>\n",
       "      <td>1</td>\n",
       "      <td>0</td>\n",
       "    </tr>\n",
       "    <tr>\n",
       "      <th>...</th>\n",
       "      <td>...</td>\n",
       "      <td>...</td>\n",
       "      <td>...</td>\n",
       "      <td>...</td>\n",
       "      <td>...</td>\n",
       "      <td>...</td>\n",
       "      <td>...</td>\n",
       "      <td>...</td>\n",
       "      <td>...</td>\n",
       "      <td>...</td>\n",
       "      <td>...</td>\n",
       "      <td>...</td>\n",
       "      <td>...</td>\n",
       "      <td>...</td>\n",
       "      <td>...</td>\n",
       "      <td>...</td>\n",
       "      <td>...</td>\n",
       "      <td>...</td>\n",
       "      <td>...</td>\n",
       "      <td>...</td>\n",
       "      <td>...</td>\n",
       "    </tr>\n",
       "    <tr>\n",
       "      <th>45206</th>\n",
       "      <td>51</td>\n",
       "      <td>1</td>\n",
       "      <td>825</td>\n",
       "      <td>17</td>\n",
       "      <td>977</td>\n",
       "      <td>3</td>\n",
       "      <td>-1</td>\n",
       "      <td>0</td>\n",
       "      <td>1</td>\n",
       "      <td>1</td>\n",
       "      <td>...</td>\n",
       "      <td>0</td>\n",
       "      <td>0</td>\n",
       "      <td>0</td>\n",
       "      <td>1</td>\n",
       "      <td>0</td>\n",
       "      <td>0</td>\n",
       "      <td>0</td>\n",
       "      <td>0</td>\n",
       "      <td>1</td>\n",
       "      <td>1</td>\n",
       "    </tr>\n",
       "    <tr>\n",
       "      <th>45207</th>\n",
       "      <td>71</td>\n",
       "      <td>1</td>\n",
       "      <td>1729</td>\n",
       "      <td>17</td>\n",
       "      <td>456</td>\n",
       "      <td>2</td>\n",
       "      <td>-1</td>\n",
       "      <td>0</td>\n",
       "      <td>1</td>\n",
       "      <td>1</td>\n",
       "      <td>...</td>\n",
       "      <td>0</td>\n",
       "      <td>0</td>\n",
       "      <td>0</td>\n",
       "      <td>1</td>\n",
       "      <td>0</td>\n",
       "      <td>0</td>\n",
       "      <td>0</td>\n",
       "      <td>0</td>\n",
       "      <td>1</td>\n",
       "      <td>0</td>\n",
       "    </tr>\n",
       "    <tr>\n",
       "      <th>45208</th>\n",
       "      <td>72</td>\n",
       "      <td>1</td>\n",
       "      <td>5715</td>\n",
       "      <td>17</td>\n",
       "      <td>1127</td>\n",
       "      <td>5</td>\n",
       "      <td>184</td>\n",
       "      <td>3</td>\n",
       "      <td>1</td>\n",
       "      <td>0</td>\n",
       "      <td>...</td>\n",
       "      <td>0</td>\n",
       "      <td>0</td>\n",
       "      <td>0</td>\n",
       "      <td>1</td>\n",
       "      <td>0</td>\n",
       "      <td>0</td>\n",
       "      <td>0</td>\n",
       "      <td>1</td>\n",
       "      <td>0</td>\n",
       "      <td>1</td>\n",
       "    </tr>\n",
       "    <tr>\n",
       "      <th>45209</th>\n",
       "      <td>57</td>\n",
       "      <td>1</td>\n",
       "      <td>668</td>\n",
       "      <td>17</td>\n",
       "      <td>508</td>\n",
       "      <td>4</td>\n",
       "      <td>-1</td>\n",
       "      <td>0</td>\n",
       "      <td>0</td>\n",
       "      <td>1</td>\n",
       "      <td>...</td>\n",
       "      <td>0</td>\n",
       "      <td>0</td>\n",
       "      <td>0</td>\n",
       "      <td>1</td>\n",
       "      <td>0</td>\n",
       "      <td>0</td>\n",
       "      <td>0</td>\n",
       "      <td>0</td>\n",
       "      <td>1</td>\n",
       "      <td>0</td>\n",
       "    </tr>\n",
       "    <tr>\n",
       "      <th>45210</th>\n",
       "      <td>37</td>\n",
       "      <td>1</td>\n",
       "      <td>2971</td>\n",
       "      <td>17</td>\n",
       "      <td>361</td>\n",
       "      <td>2</td>\n",
       "      <td>188</td>\n",
       "      <td>11</td>\n",
       "      <td>0</td>\n",
       "      <td>0</td>\n",
       "      <td>...</td>\n",
       "      <td>0</td>\n",
       "      <td>0</td>\n",
       "      <td>0</td>\n",
       "      <td>1</td>\n",
       "      <td>0</td>\n",
       "      <td>0</td>\n",
       "      <td>1</td>\n",
       "      <td>0</td>\n",
       "      <td>0</td>\n",
       "      <td>0</td>\n",
       "    </tr>\n",
       "  </tbody>\n",
       "</table>\n",
       "<p>45211 rows × 45 columns</p>\n",
       "</div>"
      ],
      "text/plain": [
       "       age  default  balance  day  duration  campaign  pdays  previous  y  \\\n",
       "0       58        1     2143    5       261         1     -1         0  0   \n",
       "1       44        1       29    5       151         1     -1         0  0   \n",
       "2       33        1        2    5        76         1     -1         0  0   \n",
       "3       47        1     1506    5        92         1     -1         0  0   \n",
       "4       33        1        1    5       198         1     -1         0  0   \n",
       "...    ...      ...      ...  ...       ...       ...    ...       ... ..   \n",
       "45206   51        1      825   17       977         3     -1         0  1   \n",
       "45207   71        1     1729   17       456         2     -1         0  1   \n",
       "45208   72        1     5715   17      1127         5    184         3  1   \n",
       "45209   57        1      668   17       508         4     -1         0  0   \n",
       "45210   37        1     2971   17       361         2    188        11  0   \n",
       "\n",
       "       pdays_no_contact  ...  month_jun  month_mar  month_may  month_nov  \\\n",
       "0                     1  ...          0          0          1          0   \n",
       "1                     1  ...          0          0          1          0   \n",
       "2                     1  ...          0          0          1          0   \n",
       "3                     1  ...          0          0          1          0   \n",
       "4                     1  ...          0          0          1          0   \n",
       "...                 ...  ...        ...        ...        ...        ...   \n",
       "45206                 1  ...          0          0          0          1   \n",
       "45207                 1  ...          0          0          0          1   \n",
       "45208                 0  ...          0          0          0          1   \n",
       "45209                 1  ...          0          0          0          1   \n",
       "45210                 0  ...          0          0          0          1   \n",
       "\n",
       "       month_oct  month_sep  poutcome_other  poutcome_success  \\\n",
       "0              0          0               0                 0   \n",
       "1              0          0               0                 0   \n",
       "2              0          0               0                 0   \n",
       "3              0          0               0                 0   \n",
       "4              0          0               0                 0   \n",
       "...          ...        ...             ...               ...   \n",
       "45206          0          0               0                 0   \n",
       "45207          0          0               0                 0   \n",
       "45208          0          0               0                 1   \n",
       "45209          0          0               0                 0   \n",
       "45210          0          0               1                 0   \n",
       "\n",
       "       poutcome_unknown  predicted  \n",
       "0                     1          0  \n",
       "1                     1          0  \n",
       "2                     1          0  \n",
       "3                     1          0  \n",
       "4                     1          0  \n",
       "...                 ...        ...  \n",
       "45206                 1          1  \n",
       "45207                 1          0  \n",
       "45208                 0          1  \n",
       "45209                 1          0  \n",
       "45210                 0          0  \n",
       "\n",
       "[45211 rows x 45 columns]"
      ]
     },
     "execution_count": 18,
     "metadata": {},
     "output_type": "execute_result"
    }
   ],
   "source": [
    "x = scaler.fit_transform(x)\n",
    "y_pred = log_reg_model.predict(x)\n",
    "data[\"predicted\"] = y_pred\n",
    "data"
   ]
  },
  {
   "cell_type": "markdown",
   "metadata": {
    "ExecuteTime": {
     "end_time": "2021-01-31T04:26:29.618573Z",
     "start_time": "2021-01-31T04:26:29.614580Z"
    }
   },
   "source": [
    "#### Confusion marix:"
   ]
  },
  {
   "cell_type": "code",
   "execution_count": 20,
   "metadata": {
    "ExecuteTime": {
     "end_time": "2021-02-07T14:18:52.001807Z",
     "start_time": "2021-02-07T14:18:51.944961Z"
    }
   },
   "outputs": [
    {
     "data": {
      "text/plain": [
       "array([[38906,  1016],\n",
       "       [ 3409,  1880]], dtype=int64)"
      ]
     },
     "execution_count": 20,
     "metadata": {},
     "output_type": "execute_result"
    }
   ],
   "source": [
    "confusion_matrix = metrics.confusion_matrix(y, y_pred)\n",
    "confusion_matrix"
   ]
  },
  {
   "cell_type": "code",
   "execution_count": 21,
   "metadata": {
    "ExecuteTime": {
     "end_time": "2021-02-07T14:19:21.012606Z",
     "start_time": "2021-02-07T14:19:20.980689Z"
    }
   },
   "outputs": [
    {
     "data": {
      "text/html": [
       "<div>\n",
       "<style scoped>\n",
       "    .dataframe tbody tr th:only-of-type {\n",
       "        vertical-align: middle;\n",
       "    }\n",
       "\n",
       "    .dataframe tbody tr th {\n",
       "        vertical-align: top;\n",
       "    }\n",
       "\n",
       "    .dataframe thead th {\n",
       "        text-align: right;\n",
       "    }\n",
       "</style>\n",
       "<table border=\"1\" class=\"dataframe\">\n",
       "  <thead>\n",
       "    <tr style=\"text-align: right;\">\n",
       "      <th>col_0</th>\n",
       "      <th>0</th>\n",
       "      <th>1</th>\n",
       "    </tr>\n",
       "    <tr>\n",
       "      <th>y</th>\n",
       "      <th></th>\n",
       "      <th></th>\n",
       "    </tr>\n",
       "  </thead>\n",
       "  <tbody>\n",
       "    <tr>\n",
       "      <th>0</th>\n",
       "      <td>38906</td>\n",
       "      <td>1016</td>\n",
       "    </tr>\n",
       "    <tr>\n",
       "      <th>1</th>\n",
       "      <td>3409</td>\n",
       "      <td>1880</td>\n",
       "    </tr>\n",
       "  </tbody>\n",
       "</table>\n",
       "</div>"
      ],
      "text/plain": [
       "col_0      0     1\n",
       "y                 \n",
       "0      38906  1016\n",
       "1       3409  1880"
      ]
     },
     "execution_count": 21,
     "metadata": {},
     "output_type": "execute_result"
    }
   ],
   "source": [
    "pd.crosstab(y, y_pred)"
   ]
  },
  {
   "cell_type": "markdown",
   "metadata": {
    "ExecuteTime": {
     "end_time": "2021-01-31T04:26:58.418735Z",
     "start_time": "2021-01-31T04:26:58.413786Z"
    }
   },
   "source": [
    "#### Accuracy:"
   ]
  },
  {
   "cell_type": "code",
   "execution_count": 22,
   "metadata": {
    "ExecuteTime": {
     "end_time": "2021-02-07T14:19:26.413682Z",
     "start_time": "2021-02-07T14:19:26.394732Z"
    }
   },
   "outputs": [
    {
     "name": "stdout",
     "output_type": "stream",
     "text": [
      "Train Accuracy: 0.9035927576073561\n",
      "Test Accuracy: 0.8992922441757594\n"
     ]
    }
   ],
   "source": [
    "train_accuracy = log_reg_model.score(x_train,y_train)\n",
    "test_accuracy = log_reg_model.score(x_test,y_test)\n",
    "\n",
    "\n",
    "print(f'''Train Accuracy: {train_accuracy}\n",
    "Test Accuracy: {test_accuracy}''')"
   ]
  },
  {
   "cell_type": "code",
   "execution_count": 23,
   "metadata": {
    "ExecuteTime": {
     "end_time": "2021-02-07T14:19:29.545278Z",
     "start_time": "2021-02-07T14:19:29.470544Z"
    }
   },
   "outputs": [
    {
     "name": "stdout",
     "output_type": "stream",
     "text": [
      "              precision    recall  f1-score   support\n",
      "\n",
      "           0       0.92      0.97      0.95     39922\n",
      "           1       0.65      0.36      0.46      5289\n",
      "\n",
      "    accuracy                           0.90     45211\n",
      "   macro avg       0.78      0.67      0.70     45211\n",
      "weighted avg       0.89      0.90      0.89     45211\n",
      "\n"
     ]
    }
   ],
   "source": [
    "print(classification_report(y, y_pred))"
   ]
  },
  {
   "cell_type": "code",
   "execution_count": 24,
   "metadata": {
    "ExecuteTime": {
     "end_time": "2021-02-07T14:19:33.314049Z",
     "start_time": "2021-02-07T14:19:33.290970Z"
    }
   },
   "outputs": [
    {
     "data": {
      "text/plain": [
       "0.6650025452828326"
      ]
     },
     "execution_count": 24,
     "metadata": {},
     "output_type": "execute_result"
    }
   ],
   "source": [
    "Logit_roc_score=roc_auc_score(y,log_reg_model.predict(x))\n",
    "Logit_roc_score"
   ]
  },
  {
   "cell_type": "code",
   "execution_count": 25,
   "metadata": {
    "ExecuteTime": {
     "end_time": "2021-02-07T14:19:38.049176Z",
     "start_time": "2021-02-07T14:19:37.829111Z"
    }
   },
   "outputs": [
    {
     "data": {
      "image/png": "[encoded data removed]",
      "text/plain": [
       "<Figure size 720x432 with 1 Axes>"
      ]
     },
     "metadata": {
      "needs_background": "light"
     },
     "output_type": "display_data"
    }
   ],
   "source": [
    "fpr, tpr, thresholds = roc_curve(y,log_reg_model.predict_proba(x)[:,1]) \n",
    "plt.rcParams[\"figure.figsize\"] = (10,6)\n",
    "plt.plot(fpr, tpr, label='Logistic Regression (area=%0.2f)'% Logit_roc_score)\n",
    "plt.plot([0, 1], [0, 1],'r--')\n",
    "plt.xlim([0.0, 1.0])\n",
    "plt.ylim([0.0, 1.05])\n",
    "plt.xlabel('False Positive Rate')\n",
    "plt.ylabel('True Positive Rate')\n",
    "plt.title('Receiver operating characteristic')\n",
    "plt.legend(loc=\"lower right\")\n",
    "plt.show()  "
   ]
  },
  {
   "cell_type": "code",
   "execution_count": 26,
   "metadata": {
    "ExecuteTime": {
     "end_time": "2021-02-07T14:19:42.444801Z",
     "start_time": "2021-02-07T14:19:42.427886Z"
    }
   },
   "outputs": [
    {
     "data": {
      "text/html": [
       "<div>\n",
       "<style scoped>\n",
       "    .dataframe tbody tr th:only-of-type {\n",
       "        vertical-align: middle;\n",
       "    }\n",
       "\n",
       "    .dataframe tbody tr th {\n",
       "        vertical-align: top;\n",
       "    }\n",
       "\n",
       "    .dataframe thead th {\n",
       "        text-align: right;\n",
       "    }\n",
       "</style>\n",
       "<table border=\"1\" class=\"dataframe\">\n",
       "  <thead>\n",
       "    <tr style=\"text-align: right;\">\n",
       "      <th></th>\n",
       "      <th>0</th>\n",
       "    </tr>\n",
       "  </thead>\n",
       "  <tbody>\n",
       "    <tr>\n",
       "      <th>0</th>\n",
       "      <td>0.009754</td>\n",
       "    </tr>\n",
       "    <tr>\n",
       "      <th>1</th>\n",
       "      <td>0.055325</td>\n",
       "    </tr>\n",
       "    <tr>\n",
       "      <th>2</th>\n",
       "      <td>0.009851</td>\n",
       "    </tr>\n",
       "    <tr>\n",
       "      <th>3</th>\n",
       "      <td>0.009689</td>\n",
       "    </tr>\n",
       "    <tr>\n",
       "      <th>4</th>\n",
       "      <td>0.034421</td>\n",
       "    </tr>\n",
       "    <tr>\n",
       "      <th>...</th>\n",
       "      <td>...</td>\n",
       "    </tr>\n",
       "    <tr>\n",
       "      <th>31642</th>\n",
       "      <td>0.082745</td>\n",
       "    </tr>\n",
       "    <tr>\n",
       "      <th>31643</th>\n",
       "      <td>0.019076</td>\n",
       "    </tr>\n",
       "    <tr>\n",
       "      <th>31644</th>\n",
       "      <td>0.060668</td>\n",
       "    </tr>\n",
       "    <tr>\n",
       "      <th>31645</th>\n",
       "      <td>0.164594</td>\n",
       "    </tr>\n",
       "    <tr>\n",
       "      <th>31646</th>\n",
       "      <td>0.008376</td>\n",
       "    </tr>\n",
       "  </tbody>\n",
       "</table>\n",
       "<p>31647 rows × 1 columns</p>\n",
       "</div>"
      ],
      "text/plain": [
       "              0\n",
       "0      0.009754\n",
       "1      0.055325\n",
       "2      0.009851\n",
       "3      0.009689\n",
       "4      0.034421\n",
       "...         ...\n",
       "31642  0.082745\n",
       "31643  0.019076\n",
       "31644  0.060668\n",
       "31645  0.164594\n",
       "31646  0.008376\n",
       "\n",
       "[31647 rows x 1 columns]"
      ]
     },
     "execution_count": 26,
     "metadata": {},
     "output_type": "execute_result"
    }
   ],
   "source": [
    "y_prob1 = pd.DataFrame(log_reg_model.predict_proba(x_train)[:,1]) \n",
    "y_prob1"
   ]
  },
  {
   "cell_type": "markdown",
   "metadata": {},
   "source": [
    "## Using the logit model:"
   ]
  },
  {
   "cell_type": "code",
   "execution_count": 27,
   "metadata": {
    "ExecuteTime": {
     "end_time": "2021-02-07T14:19:48.741455Z",
     "start_time": "2021-02-07T14:19:47.973888Z"
    }
   },
   "outputs": [],
   "source": [
    "logit = sm.Logit(y,x) "
   ]
  },
  {
   "cell_type": "code",
   "execution_count": 28,
   "metadata": {
    "ExecuteTime": {
     "end_time": "2021-02-07T14:19:52.477531Z",
     "start_time": "2021-02-07T14:19:51.946347Z"
    }
   },
   "outputs": [
    {
     "name": "stdout",
     "output_type": "stream",
     "text": [
      "Optimization terminated successfully.\n",
      "         Current function value: 0.614936\n",
      "         Iterations 8\n"
     ]
    }
   ],
   "source": [
    "logit_model = logit.fit()"
   ]
  },
  {
   "cell_type": "code",
   "execution_count": 29,
   "metadata": {
    "ExecuteTime": {
     "end_time": "2021-02-07T14:20:00.811546Z",
     "start_time": "2021-02-07T14:20:00.409568Z"
    }
   },
   "outputs": [
    {
     "data": {
      "text/html": [
       "<table class=\"simpletable\">\n",
       "<caption>Logit Regression Results</caption>\n",
       "<tr>\n",
       "  <th>Dep. Variable:</th>           <td>y</td>        <th>  No. Observations:  </th>  <td> 45211</td> \n",
       "</tr>\n",
       "<tr>\n",
       "  <th>Model:</th>                 <td>Logit</td>      <th>  Df Residuals:      </th>  <td> 45168</td> \n",
       "</tr>\n",
       "<tr>\n",
       "  <th>Method:</th>                 <td>MLE</td>       <th>  Df Model:          </th>  <td>    42</td> \n",
       "</tr>\n",
       "<tr>\n",
       "  <th>Date:</th>            <td>Sun, 07 Feb 2021</td> <th>  Pseudo R-squ.:     </th>  <td>-0.7040</td>\n",
       "</tr>\n",
       "<tr>\n",
       "  <th>Time:</th>                <td>19:50:00</td>     <th>  Log-Likelihood:    </th> <td> -27802.</td>\n",
       "</tr>\n",
       "<tr>\n",
       "  <th>converged:</th>             <td>True</td>       <th>  LL-Null:           </th> <td> -16315.</td>\n",
       "</tr>\n",
       "<tr>\n",
       "  <th>Covariance Type:</th>     <td>nonrobust</td>    <th>  LLR p-value:       </th>  <td> 1.000</td> \n",
       "</tr>\n",
       "</table>\n",
       "<table class=\"simpletable\">\n",
       "<tr>\n",
       "   <td></td>      <th>coef</th>     <th>std err</th>      <th>z</th>      <th>P>|z|</th>  <th>[0.025</th>    <th>0.975]</th>  \n",
       "</tr>\n",
       "<tr>\n",
       "  <th>x1</th>  <td>    0.0163</td> <td>    0.013</td> <td>    1.217</td> <td> 0.224</td> <td>   -0.010</td> <td>    0.043</td>\n",
       "</tr>\n",
       "<tr>\n",
       "  <th>x2</th>  <td>    0.0002</td> <td>    0.010</td> <td>    0.023</td> <td> 0.982</td> <td>   -0.019</td> <td>    0.020</td>\n",
       "</tr>\n",
       "<tr>\n",
       "  <th>x3</th>  <td>    0.0159</td> <td>    0.011</td> <td>    1.514</td> <td> 0.130</td> <td>   -0.005</td> <td>    0.037</td>\n",
       "</tr>\n",
       "<tr>\n",
       "  <th>x4</th>  <td>    0.0454</td> <td>    0.012</td> <td>    3.814</td> <td> 0.000</td> <td>    0.022</td> <td>    0.069</td>\n",
       "</tr>\n",
       "<tr>\n",
       "  <th>x5</th>  <td>    0.6567</td> <td>    0.013</td> <td>   49.279</td> <td> 0.000</td> <td>    0.631</td> <td>    0.683</td>\n",
       "</tr>\n",
       "<tr>\n",
       "  <th>x6</th>  <td>   -0.0124</td> <td>    0.011</td> <td>   -1.141</td> <td> 0.254</td> <td>   -0.034</td> <td>    0.009</td>\n",
       "</tr>\n",
       "<tr>\n",
       "  <th>x7</th>  <td>   -0.0309</td> <td>    0.023</td> <td>   -1.326</td> <td> 0.185</td> <td>   -0.077</td> <td>    0.015</td>\n",
       "</tr>\n",
       "<tr>\n",
       "  <th>x8</th>  <td>    0.0131</td> <td>    0.014</td> <td>    0.960</td> <td> 0.337</td> <td>   -0.014</td> <td>    0.040</td>\n",
       "</tr>\n",
       "<tr>\n",
       "  <th>x9</th>  <td>   -0.1452</td> <td>    0.417</td> <td>   -0.348</td> <td> 0.728</td> <td>   -0.962</td> <td>    0.672</td>\n",
       "</tr>\n",
       "<tr>\n",
       "  <th>x10</th> <td>   -0.0324</td> <td>    0.016</td> <td>   -2.024</td> <td> 0.043</td> <td>   -0.064</td> <td>   -0.001</td>\n",
       "</tr>\n",
       "<tr>\n",
       "  <th>x11</th> <td>   -0.0181</td> <td>    0.011</td> <td>   -1.572</td> <td> 0.116</td> <td>   -0.041</td> <td>    0.004</td>\n",
       "</tr>\n",
       "<tr>\n",
       "  <th>x12</th> <td>   -0.0249</td> <td>    0.012</td> <td>   -2.161</td> <td> 0.031</td> <td>   -0.048</td> <td>   -0.002</td>\n",
       "</tr>\n",
       "<tr>\n",
       "  <th>x13</th> <td>   -0.0155</td> <td>    0.018</td> <td>   -0.879</td> <td> 0.379</td> <td>   -0.050</td> <td>    0.019</td>\n",
       "</tr>\n",
       "<tr>\n",
       "  <th>x14</th> <td>    0.0259</td> <td>    0.013</td> <td>    1.935</td> <td> 0.053</td> <td>   -0.000</td> <td>    0.052</td>\n",
       "</tr>\n",
       "<tr>\n",
       "  <th>x15</th> <td>   -0.0170</td> <td>    0.012</td> <td>   -1.460</td> <td> 0.144</td> <td>   -0.040</td> <td>    0.006</td>\n",
       "</tr>\n",
       "<tr>\n",
       "  <th>x16</th> <td>   -0.0133</td> <td>    0.013</td> <td>   -1.026</td> <td> 0.305</td> <td>   -0.039</td> <td>    0.012</td>\n",
       "</tr>\n",
       "<tr>\n",
       "  <th>x17</th> <td>    0.0489</td> <td>    0.012</td> <td>    4.153</td> <td> 0.000</td> <td>    0.026</td> <td>    0.072</td>\n",
       "</tr>\n",
       "<tr>\n",
       "  <th>x18</th> <td>   -0.0161</td> <td>    0.015</td> <td>   -1.091</td> <td> 0.275</td> <td>   -0.045</td> <td>    0.013</td>\n",
       "</tr>\n",
       "<tr>\n",
       "  <th>x19</th> <td>   -0.0033</td> <td>    0.011</td> <td>   -0.293</td> <td> 0.769</td> <td>   -0.026</td> <td>    0.019</td>\n",
       "</tr>\n",
       "<tr>\n",
       "  <th>x20</th> <td>   -0.0102</td> <td>    0.011</td> <td>   -0.955</td> <td> 0.339</td> <td>   -0.031</td> <td>    0.011</td>\n",
       "</tr>\n",
       "<tr>\n",
       "  <th>x21</th> <td>   -0.0263</td> <td>    0.016</td> <td>   -1.630</td> <td> 0.103</td> <td>   -0.058</td> <td>    0.005</td>\n",
       "</tr>\n",
       "<tr>\n",
       "  <th>x22</th> <td>    0.0183</td> <td>    0.017</td> <td>    1.066</td> <td> 0.286</td> <td>   -0.015</td> <td>    0.052</td>\n",
       "</tr>\n",
       "<tr>\n",
       "  <th>x23</th> <td>    0.0134</td> <td>    0.016</td> <td>    0.823</td> <td> 0.411</td> <td>   -0.019</td> <td>    0.045</td>\n",
       "</tr>\n",
       "<tr>\n",
       "  <th>x24</th> <td>    0.0494</td> <td>    0.019</td> <td>    2.641</td> <td> 0.008</td> <td>    0.013</td> <td>    0.086</td>\n",
       "</tr>\n",
       "<tr>\n",
       "  <th>x25</th> <td>    0.0076</td> <td>    0.012</td> <td>    0.649</td> <td> 0.516</td> <td>   -0.015</td> <td>    0.030</td>\n",
       "</tr>\n",
       "<tr>\n",
       "  <th>x26</th> <td>   -0.1083</td> <td>    0.012</td> <td>   -8.876</td> <td> 0.000</td> <td>   -0.132</td> <td>   -0.084</td>\n",
       "</tr>\n",
       "<tr>\n",
       "  <th>x27</th> <td>   -0.0373</td> <td>    0.010</td> <td>   -3.601</td> <td> 0.000</td> <td>   -0.058</td> <td>   -0.017</td>\n",
       "</tr>\n",
       "<tr>\n",
       "  <th>x28</th> <td>   -0.0063</td> <td>    0.011</td> <td>   -0.587</td> <td> 0.557</td> <td>   -0.027</td> <td>    0.015</td>\n",
       "</tr>\n",
       "<tr>\n",
       "  <th>x29</th> <td>   -0.1769</td> <td>    0.016</td> <td>  -11.179</td> <td> 0.000</td> <td>   -0.208</td> <td>   -0.146</td>\n",
       "</tr>\n",
       "<tr>\n",
       "  <th>x30</th> <td>   -0.1061</td> <td>    0.018</td> <td>   -5.984</td> <td> 0.000</td> <td>   -0.141</td> <td>   -0.071</td>\n",
       "</tr>\n",
       "<tr>\n",
       "  <th>x31</th> <td>    0.0608</td> <td>    0.013</td> <td>    4.612</td> <td> 0.000</td> <td>    0.035</td> <td>    0.087</td>\n",
       "</tr>\n",
       "<tr>\n",
       "  <th>x32</th> <td>   -0.0100</td> <td>    0.014</td> <td>   -0.709</td> <td> 0.479</td> <td>   -0.038</td> <td>    0.018</td>\n",
       "</tr>\n",
       "<tr>\n",
       "  <th>x33</th> <td>   -0.0878</td> <td>    0.012</td> <td>   -7.026</td> <td> 0.000</td> <td>   -0.112</td> <td>   -0.063</td>\n",
       "</tr>\n",
       "<tr>\n",
       "  <th>x34</th> <td>   -0.1140</td> <td>    0.018</td> <td>   -6.468</td> <td> 0.000</td> <td>   -0.149</td> <td>   -0.079</td>\n",
       "</tr>\n",
       "<tr>\n",
       "  <th>x35</th> <td>    0.0327</td> <td>    0.019</td> <td>    1.725</td> <td> 0.085</td> <td>   -0.004</td> <td>    0.070</td>\n",
       "</tr>\n",
       "<tr>\n",
       "  <th>x36</th> <td>    0.1701</td> <td>    0.015</td> <td>   11.538</td> <td> 0.000</td> <td>    0.141</td> <td>    0.199</td>\n",
       "</tr>\n",
       "<tr>\n",
       "  <th>x37</th> <td>   -0.0571</td> <td>    0.022</td> <td>   -2.604</td> <td> 0.009</td> <td>   -0.100</td> <td>   -0.014</td>\n",
       "</tr>\n",
       "<tr>\n",
       "  <th>x38</th> <td>   -0.0935</td> <td>    0.015</td> <td>   -6.210</td> <td> 0.000</td> <td>   -0.123</td> <td>   -0.064</td>\n",
       "</tr>\n",
       "<tr>\n",
       "  <th>x39</th> <td>    0.1184</td> <td>    0.013</td> <td>    8.973</td> <td> 0.000</td> <td>    0.093</td> <td>    0.144</td>\n",
       "</tr>\n",
       "<tr>\n",
       "  <th>x40</th> <td>    0.1150</td> <td>    0.014</td> <td>    8.398</td> <td> 0.000</td> <td>    0.088</td> <td>    0.142</td>\n",
       "</tr>\n",
       "<tr>\n",
       "  <th>x41</th> <td>    0.0187</td> <td>    0.012</td> <td>    1.619</td> <td> 0.106</td> <td>   -0.004</td> <td>    0.041</td>\n",
       "</tr>\n",
       "<tr>\n",
       "  <th>x42</th> <td>    0.9187</td> <td>    0.043</td> <td>   21.181</td> <td> 0.000</td> <td>    0.834</td> <td>    1.004</td>\n",
       "</tr>\n",
       "<tr>\n",
       "  <th>x43</th> <td>    0.1171</td> <td>    0.416</td> <td>    0.281</td> <td> 0.778</td> <td>   -0.698</td> <td>    0.932</td>\n",
       "</tr>\n",
       "</table>"
      ],
      "text/plain": [
       "<class 'statsmodels.iolib.summary.Summary'>\n",
       "\"\"\"\n",
       "                           Logit Regression Results                           \n",
       "==============================================================================\n",
       "Dep. Variable:                      y   No. Observations:                45211\n",
       "Model:                          Logit   Df Residuals:                    45168\n",
       "Method:                           MLE   Df Model:                           42\n",
       "Date:                Sun, 07 Feb 2021   Pseudo R-squ.:                 -0.7040\n",
       "Time:                        19:50:00   Log-Likelihood:                -27802.\n",
       "converged:                       True   LL-Null:                       -16315.\n",
       "Covariance Type:            nonrobust   LLR p-value:                     1.000\n",
       "==============================================================================\n",
       "                 coef    std err          z      P>|z|      [0.025      0.975]\n",
       "------------------------------------------------------------------------------\n",
       "x1             0.0163      0.013      1.217      0.224      -0.010       0.043\n",
       "x2             0.0002      0.010      0.023      0.982      -0.019       0.020\n",
       "x3             0.0159      0.011      1.514      0.130      -0.005       0.037\n",
       "x4             0.0454      0.012      3.814      0.000       0.022       0.069\n",
       "x5             0.6567      0.013     49.279      0.000       0.631       0.683\n",
       "x6            -0.0124      0.011     -1.141      0.254      -0.034       0.009\n",
       "x7            -0.0309      0.023     -1.326      0.185      -0.077       0.015\n",
       "x8             0.0131      0.014      0.960      0.337      -0.014       0.040\n",
       "x9            -0.1452      0.417     -0.348      0.728      -0.962       0.672\n",
       "x10           -0.0324      0.016     -2.024      0.043      -0.064      -0.001\n",
       "x11           -0.0181      0.011     -1.572      0.116      -0.041       0.004\n",
       "x12           -0.0249      0.012     -2.161      0.031      -0.048      -0.002\n",
       "x13           -0.0155      0.018     -0.879      0.379      -0.050       0.019\n",
       "x14            0.0259      0.013      1.935      0.053      -0.000       0.052\n",
       "x15           -0.0170      0.012     -1.460      0.144      -0.040       0.006\n",
       "x16           -0.0133      0.013     -1.026      0.305      -0.039       0.012\n",
       "x17            0.0489      0.012      4.153      0.000       0.026       0.072\n",
       "x18           -0.0161      0.015     -1.091      0.275      -0.045       0.013\n",
       "x19           -0.0033      0.011     -0.293      0.769      -0.026       0.019\n",
       "x20           -0.0102      0.011     -0.955      0.339      -0.031       0.011\n",
       "x21           -0.0263      0.016     -1.630      0.103      -0.058       0.005\n",
       "x22            0.0183      0.017      1.066      0.286      -0.015       0.052\n",
       "x23            0.0134      0.016      0.823      0.411      -0.019       0.045\n",
       "x24            0.0494      0.019      2.641      0.008       0.013       0.086\n",
       "x25            0.0076      0.012      0.649      0.516      -0.015       0.030\n",
       "x26           -0.1083      0.012     -8.876      0.000      -0.132      -0.084\n",
       "x27           -0.0373      0.010     -3.601      0.000      -0.058      -0.017\n",
       "x28           -0.0063      0.011     -0.587      0.557      -0.027       0.015\n",
       "x29           -0.1769      0.016    -11.179      0.000      -0.208      -0.146\n",
       "x30           -0.1061      0.018     -5.984      0.000      -0.141      -0.071\n",
       "x31            0.0608      0.013      4.612      0.000       0.035       0.087\n",
       "x32           -0.0100      0.014     -0.709      0.479      -0.038       0.018\n",
       "x33           -0.0878      0.012     -7.026      0.000      -0.112      -0.063\n",
       "x34           -0.1140      0.018     -6.468      0.000      -0.149      -0.079\n",
       "x35            0.0327      0.019      1.725      0.085      -0.004       0.070\n",
       "x36            0.1701      0.015     11.538      0.000       0.141       0.199\n",
       "x37           -0.0571      0.022     -2.604      0.009      -0.100      -0.014\n",
       "x38           -0.0935      0.015     -6.210      0.000      -0.123      -0.064\n",
       "x39            0.1184      0.013      8.973      0.000       0.093       0.144\n",
       "x40            0.1150      0.014      8.398      0.000       0.088       0.142\n",
       "x41            0.0187      0.012      1.619      0.106      -0.004       0.041\n",
       "x42            0.9187      0.043     21.181      0.000       0.834       1.004\n",
       "x43            0.1171      0.416      0.281      0.778      -0.698       0.932\n",
       "==============================================================================\n",
       "\"\"\""
      ]
     },
     "execution_count": 29,
     "metadata": {},
     "output_type": "execute_result"
    }
   ],
   "source": [
    "logit_model.summary()"
   ]
  },
  {
   "cell_type": "code",
   "execution_count": 30,
   "metadata": {
    "ExecuteTime": {
     "end_time": "2021-02-07T14:20:08.423678Z",
     "start_time": "2021-02-07T14:20:08.414702Z"
    }
   },
   "outputs": [
    {
     "data": {
      "text/plain": [
       "array([0.36941446, 0.30157027, 0.21375977, ..., 0.99938003, 0.59726535,\n",
       "       0.54561707])"
      ]
     },
     "execution_count": 30,
     "metadata": {},
     "output_type": "execute_result"
    }
   ],
   "source": [
    "y_pred_logit = logit_model.predict()\n",
    "y_pred_logit"
   ]
  },
  {
   "cell_type": "code",
   "execution_count": 31,
   "metadata": {
    "ExecuteTime": {
     "end_time": "2021-02-07T14:20:12.976173Z",
     "start_time": "2021-02-07T14:20:12.963208Z"
    }
   },
   "outputs": [
    {
     "data": {
      "text/plain": [
       "array([[31483.,  8439.],\n",
       "       [  666.,  4623.]])"
      ]
     },
     "execution_count": 31,
     "metadata": {},
     "output_type": "execute_result"
    }
   ],
   "source": [
    "logit_model.pred_table()"
   ]
  },
  {
   "cell_type": "code",
   "execution_count": 32,
   "metadata": {
    "ExecuteTime": {
     "end_time": "2021-02-07T14:20:16.022770Z",
     "start_time": "2021-02-07T14:20:16.003821Z"
    }
   },
   "outputs": [
    {
     "data": {
      "text/html": [
       "<div>\n",
       "<style scoped>\n",
       "    .dataframe tbody tr th:only-of-type {\n",
       "        vertical-align: middle;\n",
       "    }\n",
       "\n",
       "    .dataframe tbody tr th {\n",
       "        vertical-align: top;\n",
       "    }\n",
       "\n",
       "    .dataframe thead th {\n",
       "        text-align: right;\n",
       "    }\n",
       "</style>\n",
       "<table border=\"1\" class=\"dataframe\">\n",
       "  <thead>\n",
       "    <tr style=\"text-align: right;\">\n",
       "      <th></th>\n",
       "      <th>Predicted 0</th>\n",
       "      <th>Predicted 1</th>\n",
       "    </tr>\n",
       "  </thead>\n",
       "  <tbody>\n",
       "    <tr>\n",
       "      <th>Actual 0</th>\n",
       "      <td>31483.0</td>\n",
       "      <td>8439.0</td>\n",
       "    </tr>\n",
       "    <tr>\n",
       "      <th>Actual 1</th>\n",
       "      <td>666.0</td>\n",
       "      <td>4623.0</td>\n",
       "    </tr>\n",
       "  </tbody>\n",
       "</table>\n",
       "</div>"
      ],
      "text/plain": [
       "          Predicted 0  Predicted 1\n",
       "Actual 0      31483.0       8439.0\n",
       "Actual 1        666.0       4623.0"
      ]
     },
     "execution_count": 32,
     "metadata": {},
     "output_type": "execute_result"
    }
   ],
   "source": [
    "cm_df = pd.DataFrame(logit_model.pred_table())\n",
    "cm_df.columns = [\"Predicted 0\", \"Predicted 1\"]\n",
    "cm_df = cm_df.rename(index={0:\"Actual 0\", 1:\"Actual 1\"})\n",
    "cm_df"
   ]
  },
  {
   "cell_type": "code",
   "execution_count": 33,
   "metadata": {
    "ExecuteTime": {
     "end_time": "2021-02-07T14:20:20.506104Z",
     "start_time": "2021-02-07T14:20:20.497126Z"
    }
   },
   "outputs": [
    {
     "data": {
      "text/plain": [
       "0.7986109575103404"
      ]
     },
     "execution_count": 33,
     "metadata": {},
     "output_type": "execute_result"
    }
   ],
   "source": [
    "logit_accuracy = (cm_df.iloc[0,0] + cm_df.iloc[1,1])/ data.shape[0]\n",
    "logit_accuracy"
   ]
  },
  {
   "cell_type": "markdown",
   "metadata": {},
   "source": [
    "### Backward Elimination:"
   ]
  },
  {
   "cell_type": "markdown",
   "metadata": {},
   "source": [
    "#### Removing insignificant data:"
   ]
  },
  {
   "cell_type": "code",
   "execution_count": 34,
   "metadata": {
    "ExecuteTime": {
     "end_time": "2021-02-07T14:20:24.362334Z",
     "start_time": "2021-02-07T14:20:24.345608Z"
    }
   },
   "outputs": [
    {
     "data": {
      "text/plain": [
       "[3, 4, 9, 11, 16, 23, 25, 26, 28, 29, 30, 32, 33, 35, 36, 37, 38, 39, 41]"
      ]
     },
     "execution_count": 34,
     "metadata": {},
     "output_type": "execute_result"
    }
   ],
   "source": [
    "significant_features = []\n",
    "\n",
    "p = logit_model.pvalues.to_dict()\n",
    "\n",
    "for key, val in p.items():\n",
    "    if val <= 0.05:\n",
    "        num = key\n",
    "        significant_features.append(int(num[1:])-1)\n",
    "        \n",
    "significant_features"
   ]
  },
  {
   "cell_type": "code",
   "execution_count": 35,
   "metadata": {
    "ExecuteTime": {
     "end_time": "2021-02-07T14:20:29.103342Z",
     "start_time": "2021-02-07T14:20:29.058461Z"
    }
   },
   "outputs": [
    {
     "data": {
      "text/html": [
       "<div>\n",
       "<style scoped>\n",
       "    .dataframe tbody tr th:only-of-type {\n",
       "        vertical-align: middle;\n",
       "    }\n",
       "\n",
       "    .dataframe tbody tr th {\n",
       "        vertical-align: top;\n",
       "    }\n",
       "\n",
       "    .dataframe thead th {\n",
       "        text-align: right;\n",
       "    }\n",
       "</style>\n",
       "<table border=\"1\" class=\"dataframe\">\n",
       "  <thead>\n",
       "    <tr style=\"text-align: right;\">\n",
       "      <th></th>\n",
       "      <th>3</th>\n",
       "      <th>4</th>\n",
       "      <th>9</th>\n",
       "      <th>11</th>\n",
       "      <th>16</th>\n",
       "      <th>23</th>\n",
       "      <th>25</th>\n",
       "      <th>26</th>\n",
       "      <th>28</th>\n",
       "      <th>29</th>\n",
       "      <th>30</th>\n",
       "      <th>32</th>\n",
       "      <th>33</th>\n",
       "      <th>35</th>\n",
       "      <th>36</th>\n",
       "      <th>37</th>\n",
       "      <th>38</th>\n",
       "      <th>39</th>\n",
       "      <th>41</th>\n",
       "    </tr>\n",
       "  </thead>\n",
       "  <tbody>\n",
       "    <tr>\n",
       "      <th>0</th>\n",
       "      <td>-1.298476</td>\n",
       "      <td>0.011016</td>\n",
       "      <td>-0.523740</td>\n",
       "      <td>-0.16793</td>\n",
       "      <td>-0.145557</td>\n",
       "      <td>1.548892</td>\n",
       "      <td>0.893915</td>\n",
       "      <td>-0.436803</td>\n",
       "      <td>1.572395</td>\n",
       "      <td>-0.400409</td>\n",
       "      <td>-0.068963</td>\n",
       "      <td>-0.178958</td>\n",
       "      <td>-0.424206</td>\n",
       "      <td>-0.103262</td>\n",
       "      <td>1.511374</td>\n",
       "      <td>-0.310263</td>\n",
       "      <td>-0.128819</td>\n",
       "      <td>-0.113898</td>\n",
       "      <td>-0.185948</td>\n",
       "    </tr>\n",
       "    <tr>\n",
       "      <th>1</th>\n",
       "      <td>-1.298476</td>\n",
       "      <td>-0.416127</td>\n",
       "      <td>-0.523740</td>\n",
       "      <td>-0.16793</td>\n",
       "      <td>-0.145557</td>\n",
       "      <td>-0.645623</td>\n",
       "      <td>0.893915</td>\n",
       "      <td>-0.436803</td>\n",
       "      <td>1.572395</td>\n",
       "      <td>-0.400409</td>\n",
       "      <td>-0.068963</td>\n",
       "      <td>-0.178958</td>\n",
       "      <td>-0.424206</td>\n",
       "      <td>-0.103262</td>\n",
       "      <td>1.511374</td>\n",
       "      <td>-0.310263</td>\n",
       "      <td>-0.128819</td>\n",
       "      <td>-0.113898</td>\n",
       "      <td>-0.185948</td>\n",
       "    </tr>\n",
       "    <tr>\n",
       "      <th>2</th>\n",
       "      <td>-1.298476</td>\n",
       "      <td>-0.707361</td>\n",
       "      <td>-0.523740</td>\n",
       "      <td>-0.16793</td>\n",
       "      <td>-0.145557</td>\n",
       "      <td>-0.645623</td>\n",
       "      <td>0.893915</td>\n",
       "      <td>2.289359</td>\n",
       "      <td>1.572395</td>\n",
       "      <td>-0.400409</td>\n",
       "      <td>-0.068963</td>\n",
       "      <td>-0.178958</td>\n",
       "      <td>-0.424206</td>\n",
       "      <td>-0.103262</td>\n",
       "      <td>1.511374</td>\n",
       "      <td>-0.310263</td>\n",
       "      <td>-0.128819</td>\n",
       "      <td>-0.113898</td>\n",
       "      <td>-0.185948</td>\n",
       "    </tr>\n",
       "    <tr>\n",
       "      <th>3</th>\n",
       "      <td>-1.298476</td>\n",
       "      <td>-0.645231</td>\n",
       "      <td>1.909346</td>\n",
       "      <td>-0.16793</td>\n",
       "      <td>-0.145557</td>\n",
       "      <td>-0.645623</td>\n",
       "      <td>0.893915</td>\n",
       "      <td>-0.436803</td>\n",
       "      <td>1.572395</td>\n",
       "      <td>-0.400409</td>\n",
       "      <td>-0.068963</td>\n",
       "      <td>-0.178958</td>\n",
       "      <td>-0.424206</td>\n",
       "      <td>-0.103262</td>\n",
       "      <td>1.511374</td>\n",
       "      <td>-0.310263</td>\n",
       "      <td>-0.128819</td>\n",
       "      <td>-0.113898</td>\n",
       "      <td>-0.185948</td>\n",
       "    </tr>\n",
       "    <tr>\n",
       "      <th>4</th>\n",
       "      <td>-1.298476</td>\n",
       "      <td>-0.233620</td>\n",
       "      <td>-0.523740</td>\n",
       "      <td>-0.16793</td>\n",
       "      <td>-0.145557</td>\n",
       "      <td>-0.645623</td>\n",
       "      <td>-1.118674</td>\n",
       "      <td>-0.436803</td>\n",
       "      <td>1.572395</td>\n",
       "      <td>-0.400409</td>\n",
       "      <td>-0.068963</td>\n",
       "      <td>-0.178958</td>\n",
       "      <td>-0.424206</td>\n",
       "      <td>-0.103262</td>\n",
       "      <td>1.511374</td>\n",
       "      <td>-0.310263</td>\n",
       "      <td>-0.128819</td>\n",
       "      <td>-0.113898</td>\n",
       "      <td>-0.185948</td>\n",
       "    </tr>\n",
       "    <tr>\n",
       "      <th>...</th>\n",
       "      <td>...</td>\n",
       "      <td>...</td>\n",
       "      <td>...</td>\n",
       "      <td>...</td>\n",
       "      <td>...</td>\n",
       "      <td>...</td>\n",
       "      <td>...</td>\n",
       "      <td>...</td>\n",
       "      <td>...</td>\n",
       "      <td>...</td>\n",
       "      <td>...</td>\n",
       "      <td>...</td>\n",
       "      <td>...</td>\n",
       "      <td>...</td>\n",
       "      <td>...</td>\n",
       "      <td>...</td>\n",
       "      <td>...</td>\n",
       "      <td>...</td>\n",
       "      <td>...</td>\n",
       "    </tr>\n",
       "    <tr>\n",
       "      <th>45206</th>\n",
       "      <td>0.143418</td>\n",
       "      <td>2.791329</td>\n",
       "      <td>-0.523740</td>\n",
       "      <td>-0.16793</td>\n",
       "      <td>-0.145557</td>\n",
       "      <td>1.548892</td>\n",
       "      <td>-1.118674</td>\n",
       "      <td>-0.436803</td>\n",
       "      <td>-0.635972</td>\n",
       "      <td>-0.400409</td>\n",
       "      <td>-0.068963</td>\n",
       "      <td>-0.178958</td>\n",
       "      <td>-0.424206</td>\n",
       "      <td>-0.103262</td>\n",
       "      <td>-0.661650</td>\n",
       "      <td>3.223067</td>\n",
       "      <td>-0.128819</td>\n",
       "      <td>-0.113898</td>\n",
       "      <td>-0.185948</td>\n",
       "    </tr>\n",
       "    <tr>\n",
       "      <th>45207</th>\n",
       "      <td>0.143418</td>\n",
       "      <td>0.768224</td>\n",
       "      <td>-0.523740</td>\n",
       "      <td>-0.16793</td>\n",
       "      <td>-0.145557</td>\n",
       "      <td>-0.645623</td>\n",
       "      <td>-1.118674</td>\n",
       "      <td>-0.436803</td>\n",
       "      <td>-0.635972</td>\n",
       "      <td>-0.400409</td>\n",
       "      <td>-0.068963</td>\n",
       "      <td>-0.178958</td>\n",
       "      <td>-0.424206</td>\n",
       "      <td>-0.103262</td>\n",
       "      <td>-0.661650</td>\n",
       "      <td>3.223067</td>\n",
       "      <td>-0.128819</td>\n",
       "      <td>-0.113898</td>\n",
       "      <td>-0.185948</td>\n",
       "    </tr>\n",
       "    <tr>\n",
       "      <th>45208</th>\n",
       "      <td>0.143418</td>\n",
       "      <td>3.373797</td>\n",
       "      <td>-0.523740</td>\n",
       "      <td>-0.16793</td>\n",
       "      <td>-0.145557</td>\n",
       "      <td>-0.645623</td>\n",
       "      <td>-1.118674</td>\n",
       "      <td>-0.436803</td>\n",
       "      <td>-0.635972</td>\n",
       "      <td>-0.400409</td>\n",
       "      <td>-0.068963</td>\n",
       "      <td>-0.178958</td>\n",
       "      <td>-0.424206</td>\n",
       "      <td>-0.103262</td>\n",
       "      <td>-0.661650</td>\n",
       "      <td>3.223067</td>\n",
       "      <td>-0.128819</td>\n",
       "      <td>-0.113898</td>\n",
       "      <td>5.377848</td>\n",
       "    </tr>\n",
       "    <tr>\n",
       "      <th>45209</th>\n",
       "      <td>0.143418</td>\n",
       "      <td>0.970146</td>\n",
       "      <td>1.909346</td>\n",
       "      <td>-0.16793</td>\n",
       "      <td>-0.145557</td>\n",
       "      <td>-0.645623</td>\n",
       "      <td>-1.118674</td>\n",
       "      <td>-0.436803</td>\n",
       "      <td>-0.635972</td>\n",
       "      <td>-0.400409</td>\n",
       "      <td>-0.068963</td>\n",
       "      <td>-0.178958</td>\n",
       "      <td>-0.424206</td>\n",
       "      <td>-0.103262</td>\n",
       "      <td>-0.661650</td>\n",
       "      <td>3.223067</td>\n",
       "      <td>-0.128819</td>\n",
       "      <td>-0.113898</td>\n",
       "      <td>-0.185948</td>\n",
       "    </tr>\n",
       "    <tr>\n",
       "      <th>45210</th>\n",
       "      <td>0.143418</td>\n",
       "      <td>0.399328</td>\n",
       "      <td>-0.523740</td>\n",
       "      <td>-0.16793</td>\n",
       "      <td>-0.145557</td>\n",
       "      <td>-0.645623</td>\n",
       "      <td>-1.118674</td>\n",
       "      <td>-0.436803</td>\n",
       "      <td>-0.635972</td>\n",
       "      <td>-0.400409</td>\n",
       "      <td>-0.068963</td>\n",
       "      <td>-0.178958</td>\n",
       "      <td>-0.424206</td>\n",
       "      <td>-0.103262</td>\n",
       "      <td>-0.661650</td>\n",
       "      <td>3.223067</td>\n",
       "      <td>-0.128819</td>\n",
       "      <td>-0.113898</td>\n",
       "      <td>-0.185948</td>\n",
       "    </tr>\n",
       "  </tbody>\n",
       "</table>\n",
       "<p>45211 rows × 19 columns</p>\n",
       "</div>"
      ],
      "text/plain": [
       "             3         4         9        11        16        23        25  \\\n",
       "0     -1.298476  0.011016 -0.523740 -0.16793 -0.145557  1.548892  0.893915   \n",
       "1     -1.298476 -0.416127 -0.523740 -0.16793 -0.145557 -0.645623  0.893915   \n",
       "2     -1.298476 -0.707361 -0.523740 -0.16793 -0.145557 -0.645623  0.893915   \n",
       "3     -1.298476 -0.645231  1.909346 -0.16793 -0.145557 -0.645623  0.893915   \n",
       "4     -1.298476 -0.233620 -0.523740 -0.16793 -0.145557 -0.645623 -1.118674   \n",
       "...         ...       ...       ...      ...       ...       ...       ...   \n",
       "45206  0.143418  2.791329 -0.523740 -0.16793 -0.145557  1.548892 -1.118674   \n",
       "45207  0.143418  0.768224 -0.523740 -0.16793 -0.145557 -0.645623 -1.118674   \n",
       "45208  0.143418  3.373797 -0.523740 -0.16793 -0.145557 -0.645623 -1.118674   \n",
       "45209  0.143418  0.970146  1.909346 -0.16793 -0.145557 -0.645623 -1.118674   \n",
       "45210  0.143418  0.399328 -0.523740 -0.16793 -0.145557 -0.645623 -1.118674   \n",
       "\n",
       "             26        28        29        30        32        33        35  \\\n",
       "0     -0.436803  1.572395 -0.400409 -0.068963 -0.178958 -0.424206 -0.103262   \n",
       "1     -0.436803  1.572395 -0.400409 -0.068963 -0.178958 -0.424206 -0.103262   \n",
       "2      2.289359  1.572395 -0.400409 -0.068963 -0.178958 -0.424206 -0.103262   \n",
       "3     -0.436803  1.572395 -0.400409 -0.068963 -0.178958 -0.424206 -0.103262   \n",
       "4     -0.436803  1.572395 -0.400409 -0.068963 -0.178958 -0.424206 -0.103262   \n",
       "...         ...       ...       ...       ...       ...       ...       ...   \n",
       "45206 -0.436803 -0.635972 -0.400409 -0.068963 -0.178958 -0.424206 -0.103262   \n",
       "45207 -0.436803 -0.635972 -0.400409 -0.068963 -0.178958 -0.424206 -0.103262   \n",
       "45208 -0.436803 -0.635972 -0.400409 -0.068963 -0.178958 -0.424206 -0.103262   \n",
       "45209 -0.436803 -0.635972 -0.400409 -0.068963 -0.178958 -0.424206 -0.103262   \n",
       "45210 -0.436803 -0.635972 -0.400409 -0.068963 -0.178958 -0.424206 -0.103262   \n",
       "\n",
       "             36        37        38        39        41  \n",
       "0      1.511374 -0.310263 -0.128819 -0.113898 -0.185948  \n",
       "1      1.511374 -0.310263 -0.128819 -0.113898 -0.185948  \n",
       "2      1.511374 -0.310263 -0.128819 -0.113898 -0.185948  \n",
       "3      1.511374 -0.310263 -0.128819 -0.113898 -0.185948  \n",
       "4      1.511374 -0.310263 -0.128819 -0.113898 -0.185948  \n",
       "...         ...       ...       ...       ...       ...  \n",
       "45206 -0.661650  3.223067 -0.128819 -0.113898 -0.185948  \n",
       "45207 -0.661650  3.223067 -0.128819 -0.113898 -0.185948  \n",
       "45208 -0.661650  3.223067 -0.128819 -0.113898  5.377848  \n",
       "45209 -0.661650  3.223067 -0.128819 -0.113898 -0.185948  \n",
       "45210 -0.661650  3.223067 -0.128819 -0.113898 -0.185948  \n",
       "\n",
       "[45211 rows x 19 columns]"
      ]
     },
     "execution_count": 35,
     "metadata": {},
     "output_type": "execute_result"
    }
   ],
   "source": [
    "x = pd.DataFrame(x)\n",
    "x = x[significant_features]\n",
    "x"
   ]
  },
  {
   "cell_type": "markdown",
   "metadata": {},
   "source": [
    "#### Model_2:"
   ]
  },
  {
   "cell_type": "code",
   "execution_count": 36,
   "metadata": {
    "ExecuteTime": {
     "end_time": "2021-02-07T14:20:41.973639Z",
     "start_time": "2021-02-07T14:20:41.662975Z"
    }
   },
   "outputs": [
    {
     "name": "stdout",
     "output_type": "stream",
     "text": [
      "Optimization terminated successfully.\n",
      "         Current function value: 0.615484\n",
      "         Iterations 8\n"
     ]
    }
   ],
   "source": [
    "logit = sm.Logit(y,x)\n",
    "logit_model_2 = logit.fit()"
   ]
  },
  {
   "cell_type": "code",
   "execution_count": 37,
   "metadata": {
    "ExecuteTime": {
     "end_time": "2021-02-07T14:20:45.849243Z",
     "start_time": "2021-02-07T14:20:45.717586Z"
    }
   },
   "outputs": [
    {
     "data": {
      "text/html": [
       "<table class=\"simpletable\">\n",
       "<caption>Logit Regression Results</caption>\n",
       "<tr>\n",
       "  <th>Dep. Variable:</th>           <td>y</td>        <th>  No. Observations:  </th>  <td> 45211</td> \n",
       "</tr>\n",
       "<tr>\n",
       "  <th>Model:</th>                 <td>Logit</td>      <th>  Df Residuals:      </th>  <td> 45192</td> \n",
       "</tr>\n",
       "<tr>\n",
       "  <th>Method:</th>                 <td>MLE</td>       <th>  Df Model:          </th>  <td>    18</td> \n",
       "</tr>\n",
       "<tr>\n",
       "  <th>Date:</th>            <td>Sun, 07 Feb 2021</td> <th>  Pseudo R-squ.:     </th>  <td>-0.7055</td>\n",
       "</tr>\n",
       "<tr>\n",
       "  <th>Time:</th>                <td>19:50:45</td>     <th>  Log-Likelihood:    </th> <td> -27827.</td>\n",
       "</tr>\n",
       "<tr>\n",
       "  <th>converged:</th>             <td>True</td>       <th>  LL-Null:           </th> <td> -16315.</td>\n",
       "</tr>\n",
       "<tr>\n",
       "  <th>Covariance Type:</th>     <td>nonrobust</td>    <th>  LLR p-value:       </th>  <td> 1.000</td> \n",
       "</tr>\n",
       "</table>\n",
       "<table class=\"simpletable\">\n",
       "<tr>\n",
       "   <td></td>     <th>coef</th>     <th>std err</th>      <th>z</th>      <th>P>|z|</th>  <th>[0.025</th>    <th>0.975]</th>  \n",
       "</tr>\n",
       "<tr>\n",
       "  <th>3</th>  <td>    0.0416</td> <td>    0.011</td> <td>    3.731</td> <td> 0.000</td> <td>    0.020</td> <td>    0.063</td>\n",
       "</tr>\n",
       "<tr>\n",
       "  <th>4</th>  <td>    0.6592</td> <td>    0.013</td> <td>   49.843</td> <td> 0.000</td> <td>    0.633</td> <td>    0.685</td>\n",
       "</tr>\n",
       "<tr>\n",
       "  <th>9</th>  <td>   -0.0299</td> <td>    0.011</td> <td>   -2.738</td> <td> 0.006</td> <td>   -0.051</td> <td>   -0.009</td>\n",
       "</tr>\n",
       "<tr>\n",
       "  <th>11</th> <td>   -0.0232</td> <td>    0.010</td> <td>   -2.254</td> <td> 0.024</td> <td>   -0.043</td> <td>   -0.003</td>\n",
       "</tr>\n",
       "<tr>\n",
       "  <th>16</th> <td>    0.0574</td> <td>    0.011</td> <td>    5.348</td> <td> 0.000</td> <td>    0.036</td> <td>    0.078</td>\n",
       "</tr>\n",
       "<tr>\n",
       "  <th>23</th> <td>    0.0343</td> <td>    0.011</td> <td>    3.155</td> <td> 0.002</td> <td>    0.013</td> <td>    0.056</td>\n",
       "</tr>\n",
       "<tr>\n",
       "  <th>25</th> <td>   -0.1172</td> <td>    0.012</td> <td>  -10.000</td> <td> 0.000</td> <td>   -0.140</td> <td>   -0.094</td>\n",
       "</tr>\n",
       "<tr>\n",
       "  <th>26</th> <td>   -0.0398</td> <td>    0.010</td> <td>   -3.879</td> <td> 0.000</td> <td>   -0.060</td> <td>   -0.020</td>\n",
       "</tr>\n",
       "<tr>\n",
       "  <th>28</th> <td>   -0.1640</td> <td>    0.012</td> <td>  -13.467</td> <td> 0.000</td> <td>   -0.188</td> <td>   -0.140</td>\n",
       "</tr>\n",
       "<tr>\n",
       "  <th>29</th> <td>   -0.1223</td> <td>    0.013</td> <td>   -9.474</td> <td> 0.000</td> <td>   -0.148</td> <td>   -0.097</td>\n",
       "</tr>\n",
       "<tr>\n",
       "  <th>30</th> <td>    0.0616</td> <td>    0.013</td> <td>    4.756</td> <td> 0.000</td> <td>    0.036</td> <td>    0.087</td>\n",
       "</tr>\n",
       "<tr>\n",
       "  <th>32</th> <td>   -0.0885</td> <td>    0.011</td> <td>   -7.700</td> <td> 0.000</td> <td>   -0.111</td> <td>   -0.066</td>\n",
       "</tr>\n",
       "<tr>\n",
       "  <th>33</th> <td>   -0.1308</td> <td>    0.013</td> <td>   -9.994</td> <td> 0.000</td> <td>   -0.156</td> <td>   -0.105</td>\n",
       "</tr>\n",
       "<tr>\n",
       "  <th>35</th> <td>    0.1698</td> <td>    0.014</td> <td>   11.866</td> <td> 0.000</td> <td>    0.142</td> <td>    0.198</td>\n",
       "</tr>\n",
       "<tr>\n",
       "  <th>36</th> <td>   -0.0777</td> <td>    0.014</td> <td>   -5.718</td> <td> 0.000</td> <td>   -0.104</td> <td>   -0.051</td>\n",
       "</tr>\n",
       "<tr>\n",
       "  <th>37</th> <td>   -0.0987</td> <td>    0.012</td> <td>   -8.190</td> <td> 0.000</td> <td>   -0.122</td> <td>   -0.075</td>\n",
       "</tr>\n",
       "<tr>\n",
       "  <th>38</th> <td>    0.1198</td> <td>    0.012</td> <td>    9.641</td> <td> 0.000</td> <td>    0.095</td> <td>    0.144</td>\n",
       "</tr>\n",
       "<tr>\n",
       "  <th>39</th> <td>    0.1148</td> <td>    0.013</td> <td>    8.802</td> <td> 0.000</td> <td>    0.089</td> <td>    0.140</td>\n",
       "</tr>\n",
       "<tr>\n",
       "  <th>41</th> <td>    0.9254</td> <td>    0.043</td> <td>   21.570</td> <td> 0.000</td> <td>    0.841</td> <td>    1.009</td>\n",
       "</tr>\n",
       "</table>"
      ],
      "text/plain": [
       "<class 'statsmodels.iolib.summary.Summary'>\n",
       "\"\"\"\n",
       "                           Logit Regression Results                           \n",
       "==============================================================================\n",
       "Dep. Variable:                      y   No. Observations:                45211\n",
       "Model:                          Logit   Df Residuals:                    45192\n",
       "Method:                           MLE   Df Model:                           18\n",
       "Date:                Sun, 07 Feb 2021   Pseudo R-squ.:                 -0.7055\n",
       "Time:                        19:50:45   Log-Likelihood:                -27827.\n",
       "converged:                       True   LL-Null:                       -16315.\n",
       "Covariance Type:            nonrobust   LLR p-value:                     1.000\n",
       "==============================================================================\n",
       "                 coef    std err          z      P>|z|      [0.025      0.975]\n",
       "------------------------------------------------------------------------------\n",
       "3              0.0416      0.011      3.731      0.000       0.020       0.063\n",
       "4              0.6592      0.013     49.843      0.000       0.633       0.685\n",
       "9             -0.0299      0.011     -2.738      0.006      -0.051      -0.009\n",
       "11            -0.0232      0.010     -2.254      0.024      -0.043      -0.003\n",
       "16             0.0574      0.011      5.348      0.000       0.036       0.078\n",
       "23             0.0343      0.011      3.155      0.002       0.013       0.056\n",
       "25            -0.1172      0.012    -10.000      0.000      -0.140      -0.094\n",
       "26            -0.0398      0.010     -3.879      0.000      -0.060      -0.020\n",
       "28            -0.1640      0.012    -13.467      0.000      -0.188      -0.140\n",
       "29            -0.1223      0.013     -9.474      0.000      -0.148      -0.097\n",
       "30             0.0616      0.013      4.756      0.000       0.036       0.087\n",
       "32            -0.0885      0.011     -7.700      0.000      -0.111      -0.066\n",
       "33            -0.1308      0.013     -9.994      0.000      -0.156      -0.105\n",
       "35             0.1698      0.014     11.866      0.000       0.142       0.198\n",
       "36            -0.0777      0.014     -5.718      0.000      -0.104      -0.051\n",
       "37            -0.0987      0.012     -8.190      0.000      -0.122      -0.075\n",
       "38             0.1198      0.012      9.641      0.000       0.095       0.144\n",
       "39             0.1148      0.013      8.802      0.000       0.089       0.140\n",
       "41             0.9254      0.043     21.570      0.000       0.841       1.009\n",
       "==============================================================================\n",
       "\"\"\""
      ]
     },
     "execution_count": 37,
     "metadata": {},
     "output_type": "execute_result"
    }
   ],
   "source": [
    "logit_model_2.summary()"
   ]
  },
  {
   "cell_type": "markdown",
   "metadata": {},
   "source": [
    "###### Observation: the model has one insignificant feature"
   ]
  },
  {
   "cell_type": "code",
   "execution_count": 38,
   "metadata": {
    "ExecuteTime": {
     "end_time": "2021-02-07T14:20:52.805052Z",
     "start_time": "2021-02-07T14:20:52.797074Z"
    }
   },
   "outputs": [
    {
     "data": {
      "text/plain": [
       "array([0.37364295, 0.29452104, 0.23612551, ..., 0.99929167, 0.60962243,\n",
       "       0.53548932])"
      ]
     },
     "execution_count": 38,
     "metadata": {},
     "output_type": "execute_result"
    }
   ],
   "source": [
    "y_pred_logit_2 = logit_model_2.predict()\n",
    "y_pred_logit_2"
   ]
  },
  {
   "cell_type": "code",
   "execution_count": 39,
   "metadata": {
    "ExecuteTime": {
     "end_time": "2021-02-07T14:20:56.632662Z",
     "start_time": "2021-02-07T14:20:56.621690Z"
    }
   },
   "outputs": [
    {
     "data": {
      "text/plain": [
       "array([[31540.,  8382.],\n",
       "       [  697.,  4592.]])"
      ]
     },
     "execution_count": 39,
     "metadata": {},
     "output_type": "execute_result"
    }
   ],
   "source": [
    "logit_model_2.pred_table()"
   ]
  },
  {
   "cell_type": "code",
   "execution_count": 40,
   "metadata": {
    "ExecuteTime": {
     "end_time": "2021-02-07T14:21:00.022027Z",
     "start_time": "2021-02-07T14:20:59.999087Z"
    }
   },
   "outputs": [
    {
     "data": {
      "text/html": [
       "<div>\n",
       "<style scoped>\n",
       "    .dataframe tbody tr th:only-of-type {\n",
       "        vertical-align: middle;\n",
       "    }\n",
       "\n",
       "    .dataframe tbody tr th {\n",
       "        vertical-align: top;\n",
       "    }\n",
       "\n",
       "    .dataframe thead th {\n",
       "        text-align: right;\n",
       "    }\n",
       "</style>\n",
       "<table border=\"1\" class=\"dataframe\">\n",
       "  <thead>\n",
       "    <tr style=\"text-align: right;\">\n",
       "      <th></th>\n",
       "      <th>Predicted 0</th>\n",
       "      <th>Predicted 1</th>\n",
       "    </tr>\n",
       "  </thead>\n",
       "  <tbody>\n",
       "    <tr>\n",
       "      <th>Actual 0</th>\n",
       "      <td>31540.0</td>\n",
       "      <td>8382.0</td>\n",
       "    </tr>\n",
       "    <tr>\n",
       "      <th>Actual 1</th>\n",
       "      <td>697.0</td>\n",
       "      <td>4592.0</td>\n",
       "    </tr>\n",
       "  </tbody>\n",
       "</table>\n",
       "</div>"
      ],
      "text/plain": [
       "          Predicted 0  Predicted 1\n",
       "Actual 0      31540.0       8382.0\n",
       "Actual 1        697.0       4592.0"
      ]
     },
     "execution_count": 40,
     "metadata": {},
     "output_type": "execute_result"
    }
   ],
   "source": [
    "cm_df = pd.DataFrame(logit_model_2.pred_table())\n",
    "cm_df.columns = [\"Predicted 0\", \"Predicted 1\"]\n",
    "cm_df = cm_df.rename(index={0:\"Actual 0\", 1:\"Actual 1\"})\n",
    "cm_df"
   ]
  },
  {
   "cell_type": "code",
   "execution_count": 41,
   "metadata": {
    "ExecuteTime": {
     "end_time": "2021-02-07T14:21:04.671583Z",
     "start_time": "2021-02-07T14:21:04.663606Z"
    }
   },
   "outputs": [
    {
     "data": {
      "text/plain": [
       "0.7991860387958682"
      ]
     },
     "execution_count": 41,
     "metadata": {},
     "output_type": "execute_result"
    }
   ],
   "source": [
    "logit_accuracy = (cm_df.iloc[0,0] + cm_df.iloc[1,1])/ data.shape[0]\n",
    "logit_accuracy"
   ]
  },
  {
   "cell_type": "markdown",
   "metadata": {},
   "source": [
    "#### Removing insignificant data:"
   ]
  },
  {
   "cell_type": "code",
   "execution_count": 42,
   "metadata": {
    "ExecuteTime": {
     "end_time": "2021-02-07T14:21:09.252456Z",
     "start_time": "2021-02-07T14:21:09.246470Z"
    }
   },
   "outputs": [],
   "source": [
    "new_significant = []\n",
    "\n",
    "for i in significant_features:\n",
    "    if i != 11:\n",
    "        new_significant.append(i)\n"
   ]
  },
  {
   "cell_type": "code",
   "execution_count": 43,
   "metadata": {
    "ExecuteTime": {
     "end_time": "2021-02-07T14:21:12.242987Z",
     "start_time": "2021-02-07T14:21:12.200100Z"
    }
   },
   "outputs": [
    {
     "data": {
      "text/html": [
       "<div>\n",
       "<style scoped>\n",
       "    .dataframe tbody tr th:only-of-type {\n",
       "        vertical-align: middle;\n",
       "    }\n",
       "\n",
       "    .dataframe tbody tr th {\n",
       "        vertical-align: top;\n",
       "    }\n",
       "\n",
       "    .dataframe thead th {\n",
       "        text-align: right;\n",
       "    }\n",
       "</style>\n",
       "<table border=\"1\" class=\"dataframe\">\n",
       "  <thead>\n",
       "    <tr style=\"text-align: right;\">\n",
       "      <th></th>\n",
       "      <th>3</th>\n",
       "      <th>4</th>\n",
       "      <th>9</th>\n",
       "      <th>16</th>\n",
       "      <th>23</th>\n",
       "      <th>25</th>\n",
       "      <th>26</th>\n",
       "      <th>28</th>\n",
       "      <th>29</th>\n",
       "      <th>30</th>\n",
       "      <th>32</th>\n",
       "      <th>33</th>\n",
       "      <th>35</th>\n",
       "      <th>36</th>\n",
       "      <th>37</th>\n",
       "      <th>38</th>\n",
       "      <th>39</th>\n",
       "      <th>41</th>\n",
       "    </tr>\n",
       "  </thead>\n",
       "  <tbody>\n",
       "    <tr>\n",
       "      <th>0</th>\n",
       "      <td>-1.298476</td>\n",
       "      <td>0.011016</td>\n",
       "      <td>-0.523740</td>\n",
       "      <td>-0.145557</td>\n",
       "      <td>1.548892</td>\n",
       "      <td>0.893915</td>\n",
       "      <td>-0.436803</td>\n",
       "      <td>1.572395</td>\n",
       "      <td>-0.400409</td>\n",
       "      <td>-0.068963</td>\n",
       "      <td>-0.178958</td>\n",
       "      <td>-0.424206</td>\n",
       "      <td>-0.103262</td>\n",
       "      <td>1.511374</td>\n",
       "      <td>-0.310263</td>\n",
       "      <td>-0.128819</td>\n",
       "      <td>-0.113898</td>\n",
       "      <td>-0.185948</td>\n",
       "    </tr>\n",
       "    <tr>\n",
       "      <th>1</th>\n",
       "      <td>-1.298476</td>\n",
       "      <td>-0.416127</td>\n",
       "      <td>-0.523740</td>\n",
       "      <td>-0.145557</td>\n",
       "      <td>-0.645623</td>\n",
       "      <td>0.893915</td>\n",
       "      <td>-0.436803</td>\n",
       "      <td>1.572395</td>\n",
       "      <td>-0.400409</td>\n",
       "      <td>-0.068963</td>\n",
       "      <td>-0.178958</td>\n",
       "      <td>-0.424206</td>\n",
       "      <td>-0.103262</td>\n",
       "      <td>1.511374</td>\n",
       "      <td>-0.310263</td>\n",
       "      <td>-0.128819</td>\n",
       "      <td>-0.113898</td>\n",
       "      <td>-0.185948</td>\n",
       "    </tr>\n",
       "    <tr>\n",
       "      <th>2</th>\n",
       "      <td>-1.298476</td>\n",
       "      <td>-0.707361</td>\n",
       "      <td>-0.523740</td>\n",
       "      <td>-0.145557</td>\n",
       "      <td>-0.645623</td>\n",
       "      <td>0.893915</td>\n",
       "      <td>2.289359</td>\n",
       "      <td>1.572395</td>\n",
       "      <td>-0.400409</td>\n",
       "      <td>-0.068963</td>\n",
       "      <td>-0.178958</td>\n",
       "      <td>-0.424206</td>\n",
       "      <td>-0.103262</td>\n",
       "      <td>1.511374</td>\n",
       "      <td>-0.310263</td>\n",
       "      <td>-0.128819</td>\n",
       "      <td>-0.113898</td>\n",
       "      <td>-0.185948</td>\n",
       "    </tr>\n",
       "    <tr>\n",
       "      <th>3</th>\n",
       "      <td>-1.298476</td>\n",
       "      <td>-0.645231</td>\n",
       "      <td>1.909346</td>\n",
       "      <td>-0.145557</td>\n",
       "      <td>-0.645623</td>\n",
       "      <td>0.893915</td>\n",
       "      <td>-0.436803</td>\n",
       "      <td>1.572395</td>\n",
       "      <td>-0.400409</td>\n",
       "      <td>-0.068963</td>\n",
       "      <td>-0.178958</td>\n",
       "      <td>-0.424206</td>\n",
       "      <td>-0.103262</td>\n",
       "      <td>1.511374</td>\n",
       "      <td>-0.310263</td>\n",
       "      <td>-0.128819</td>\n",
       "      <td>-0.113898</td>\n",
       "      <td>-0.185948</td>\n",
       "    </tr>\n",
       "    <tr>\n",
       "      <th>4</th>\n",
       "      <td>-1.298476</td>\n",
       "      <td>-0.233620</td>\n",
       "      <td>-0.523740</td>\n",
       "      <td>-0.145557</td>\n",
       "      <td>-0.645623</td>\n",
       "      <td>-1.118674</td>\n",
       "      <td>-0.436803</td>\n",
       "      <td>1.572395</td>\n",
       "      <td>-0.400409</td>\n",
       "      <td>-0.068963</td>\n",
       "      <td>-0.178958</td>\n",
       "      <td>-0.424206</td>\n",
       "      <td>-0.103262</td>\n",
       "      <td>1.511374</td>\n",
       "      <td>-0.310263</td>\n",
       "      <td>-0.128819</td>\n",
       "      <td>-0.113898</td>\n",
       "      <td>-0.185948</td>\n",
       "    </tr>\n",
       "    <tr>\n",
       "      <th>...</th>\n",
       "      <td>...</td>\n",
       "      <td>...</td>\n",
       "      <td>...</td>\n",
       "      <td>...</td>\n",
       "      <td>...</td>\n",
       "      <td>...</td>\n",
       "      <td>...</td>\n",
       "      <td>...</td>\n",
       "      <td>...</td>\n",
       "      <td>...</td>\n",
       "      <td>...</td>\n",
       "      <td>...</td>\n",
       "      <td>...</td>\n",
       "      <td>...</td>\n",
       "      <td>...</td>\n",
       "      <td>...</td>\n",
       "      <td>...</td>\n",
       "      <td>...</td>\n",
       "    </tr>\n",
       "    <tr>\n",
       "      <th>45206</th>\n",
       "      <td>0.143418</td>\n",
       "      <td>2.791329</td>\n",
       "      <td>-0.523740</td>\n",
       "      <td>-0.145557</td>\n",
       "      <td>1.548892</td>\n",
       "      <td>-1.118674</td>\n",
       "      <td>-0.436803</td>\n",
       "      <td>-0.635972</td>\n",
       "      <td>-0.400409</td>\n",
       "      <td>-0.068963</td>\n",
       "      <td>-0.178958</td>\n",
       "      <td>-0.424206</td>\n",
       "      <td>-0.103262</td>\n",
       "      <td>-0.661650</td>\n",
       "      <td>3.223067</td>\n",
       "      <td>-0.128819</td>\n",
       "      <td>-0.113898</td>\n",
       "      <td>-0.185948</td>\n",
       "    </tr>\n",
       "    <tr>\n",
       "      <th>45207</th>\n",
       "      <td>0.143418</td>\n",
       "      <td>0.768224</td>\n",
       "      <td>-0.523740</td>\n",
       "      <td>-0.145557</td>\n",
       "      <td>-0.645623</td>\n",
       "      <td>-1.118674</td>\n",
       "      <td>-0.436803</td>\n",
       "      <td>-0.635972</td>\n",
       "      <td>-0.400409</td>\n",
       "      <td>-0.068963</td>\n",
       "      <td>-0.178958</td>\n",
       "      <td>-0.424206</td>\n",
       "      <td>-0.103262</td>\n",
       "      <td>-0.661650</td>\n",
       "      <td>3.223067</td>\n",
       "      <td>-0.128819</td>\n",
       "      <td>-0.113898</td>\n",
       "      <td>-0.185948</td>\n",
       "    </tr>\n",
       "    <tr>\n",
       "      <th>45208</th>\n",
       "      <td>0.143418</td>\n",
       "      <td>3.373797</td>\n",
       "      <td>-0.523740</td>\n",
       "      <td>-0.145557</td>\n",
       "      <td>-0.645623</td>\n",
       "      <td>-1.118674</td>\n",
       "      <td>-0.436803</td>\n",
       "      <td>-0.635972</td>\n",
       "      <td>-0.400409</td>\n",
       "      <td>-0.068963</td>\n",
       "      <td>-0.178958</td>\n",
       "      <td>-0.424206</td>\n",
       "      <td>-0.103262</td>\n",
       "      <td>-0.661650</td>\n",
       "      <td>3.223067</td>\n",
       "      <td>-0.128819</td>\n",
       "      <td>-0.113898</td>\n",
       "      <td>5.377848</td>\n",
       "    </tr>\n",
       "    <tr>\n",
       "      <th>45209</th>\n",
       "      <td>0.143418</td>\n",
       "      <td>0.970146</td>\n",
       "      <td>1.909346</td>\n",
       "      <td>-0.145557</td>\n",
       "      <td>-0.645623</td>\n",
       "      <td>-1.118674</td>\n",
       "      <td>-0.436803</td>\n",
       "      <td>-0.635972</td>\n",
       "      <td>-0.400409</td>\n",
       "      <td>-0.068963</td>\n",
       "      <td>-0.178958</td>\n",
       "      <td>-0.424206</td>\n",
       "      <td>-0.103262</td>\n",
       "      <td>-0.661650</td>\n",
       "      <td>3.223067</td>\n",
       "      <td>-0.128819</td>\n",
       "      <td>-0.113898</td>\n",
       "      <td>-0.185948</td>\n",
       "    </tr>\n",
       "    <tr>\n",
       "      <th>45210</th>\n",
       "      <td>0.143418</td>\n",
       "      <td>0.399328</td>\n",
       "      <td>-0.523740</td>\n",
       "      <td>-0.145557</td>\n",
       "      <td>-0.645623</td>\n",
       "      <td>-1.118674</td>\n",
       "      <td>-0.436803</td>\n",
       "      <td>-0.635972</td>\n",
       "      <td>-0.400409</td>\n",
       "      <td>-0.068963</td>\n",
       "      <td>-0.178958</td>\n",
       "      <td>-0.424206</td>\n",
       "      <td>-0.103262</td>\n",
       "      <td>-0.661650</td>\n",
       "      <td>3.223067</td>\n",
       "      <td>-0.128819</td>\n",
       "      <td>-0.113898</td>\n",
       "      <td>-0.185948</td>\n",
       "    </tr>\n",
       "  </tbody>\n",
       "</table>\n",
       "<p>45211 rows × 18 columns</p>\n",
       "</div>"
      ],
      "text/plain": [
       "             3         4         9         16        23        25        26  \\\n",
       "0     -1.298476  0.011016 -0.523740 -0.145557  1.548892  0.893915 -0.436803   \n",
       "1     -1.298476 -0.416127 -0.523740 -0.145557 -0.645623  0.893915 -0.436803   \n",
       "2     -1.298476 -0.707361 -0.523740 -0.145557 -0.645623  0.893915  2.289359   \n",
       "3     -1.298476 -0.645231  1.909346 -0.145557 -0.645623  0.893915 -0.436803   \n",
       "4     -1.298476 -0.233620 -0.523740 -0.145557 -0.645623 -1.118674 -0.436803   \n",
       "...         ...       ...       ...       ...       ...       ...       ...   \n",
       "45206  0.143418  2.791329 -0.523740 -0.145557  1.548892 -1.118674 -0.436803   \n",
       "45207  0.143418  0.768224 -0.523740 -0.145557 -0.645623 -1.118674 -0.436803   \n",
       "45208  0.143418  3.373797 -0.523740 -0.145557 -0.645623 -1.118674 -0.436803   \n",
       "45209  0.143418  0.970146  1.909346 -0.145557 -0.645623 -1.118674 -0.436803   \n",
       "45210  0.143418  0.399328 -0.523740 -0.145557 -0.645623 -1.118674 -0.436803   \n",
       "\n",
       "             28        29        30        32        33        35        36  \\\n",
       "0      1.572395 -0.400409 -0.068963 -0.178958 -0.424206 -0.103262  1.511374   \n",
       "1      1.572395 -0.400409 -0.068963 -0.178958 -0.424206 -0.103262  1.511374   \n",
       "2      1.572395 -0.400409 -0.068963 -0.178958 -0.424206 -0.103262  1.511374   \n",
       "3      1.572395 -0.400409 -0.068963 -0.178958 -0.424206 -0.103262  1.511374   \n",
       "4      1.572395 -0.400409 -0.068963 -0.178958 -0.424206 -0.103262  1.511374   \n",
       "...         ...       ...       ...       ...       ...       ...       ...   \n",
       "45206 -0.635972 -0.400409 -0.068963 -0.178958 -0.424206 -0.103262 -0.661650   \n",
       "45207 -0.635972 -0.400409 -0.068963 -0.178958 -0.424206 -0.103262 -0.661650   \n",
       "45208 -0.635972 -0.400409 -0.068963 -0.178958 -0.424206 -0.103262 -0.661650   \n",
       "45209 -0.635972 -0.400409 -0.068963 -0.178958 -0.424206 -0.103262 -0.661650   \n",
       "45210 -0.635972 -0.400409 -0.068963 -0.178958 -0.424206 -0.103262 -0.661650   \n",
       "\n",
       "             37        38        39        41  \n",
       "0     -0.310263 -0.128819 -0.113898 -0.185948  \n",
       "1     -0.310263 -0.128819 -0.113898 -0.185948  \n",
       "2     -0.310263 -0.128819 -0.113898 -0.185948  \n",
       "3     -0.310263 -0.128819 -0.113898 -0.185948  \n",
       "4     -0.310263 -0.128819 -0.113898 -0.185948  \n",
       "...         ...       ...       ...       ...  \n",
       "45206  3.223067 -0.128819 -0.113898 -0.185948  \n",
       "45207  3.223067 -0.128819 -0.113898 -0.185948  \n",
       "45208  3.223067 -0.128819 -0.113898  5.377848  \n",
       "45209  3.223067 -0.128819 -0.113898 -0.185948  \n",
       "45210  3.223067 -0.128819 -0.113898 -0.185948  \n",
       "\n",
       "[45211 rows x 18 columns]"
      ]
     },
     "execution_count": 43,
     "metadata": {},
     "output_type": "execute_result"
    }
   ],
   "source": [
    "x = x[new_significant]\n",
    "x"
   ]
  },
  {
   "cell_type": "markdown",
   "metadata": {
    "ExecuteTime": {
     "end_time": "2021-01-31T04:31:11.138621Z",
     "start_time": "2021-01-31T04:31:11.134629Z"
    }
   },
   "source": [
    "#### model_3:"
   ]
  },
  {
   "cell_type": "code",
   "execution_count": 44,
   "metadata": {
    "ExecuteTime": {
     "end_time": "2021-02-07T14:21:17.502908Z",
     "start_time": "2021-02-07T14:21:17.329728Z"
    }
   },
   "outputs": [
    {
     "name": "stdout",
     "output_type": "stream",
     "text": [
      "Optimization terminated successfully.\n",
      "         Current function value: 0.615540\n",
      "         Iterations 8\n"
     ]
    }
   ],
   "source": [
    "logit = sm.Logit(y,x)\n",
    "logit_model_3 = logit.fit()"
   ]
  },
  {
   "cell_type": "code",
   "execution_count": 45,
   "metadata": {
    "ExecuteTime": {
     "end_time": "2021-02-07T14:21:23.063014Z",
     "start_time": "2021-02-07T14:21:22.933396Z"
    }
   },
   "outputs": [
    {
     "data": {
      "text/html": [
       "<table class=\"simpletable\">\n",
       "<caption>Logit Regression Results</caption>\n",
       "<tr>\n",
       "  <th>Dep. Variable:</th>           <td>y</td>        <th>  No. Observations:  </th>  <td> 45211</td> \n",
       "</tr>\n",
       "<tr>\n",
       "  <th>Model:</th>                 <td>Logit</td>      <th>  Df Residuals:      </th>  <td> 45193</td> \n",
       "</tr>\n",
       "<tr>\n",
       "  <th>Method:</th>                 <td>MLE</td>       <th>  Df Model:          </th>  <td>    17</td> \n",
       "</tr>\n",
       "<tr>\n",
       "  <th>Date:</th>            <td>Sun, 07 Feb 2021</td> <th>  Pseudo R-squ.:     </th>  <td>-0.7057</td>\n",
       "</tr>\n",
       "<tr>\n",
       "  <th>Time:</th>                <td>19:51:23</td>     <th>  Log-Likelihood:    </th> <td> -27829.</td>\n",
       "</tr>\n",
       "<tr>\n",
       "  <th>converged:</th>             <td>True</td>       <th>  LL-Null:           </th> <td> -16315.</td>\n",
       "</tr>\n",
       "<tr>\n",
       "  <th>Covariance Type:</th>     <td>nonrobust</td>    <th>  LLR p-value:       </th>  <td> 1.000</td> \n",
       "</tr>\n",
       "</table>\n",
       "<table class=\"simpletable\">\n",
       "<tr>\n",
       "   <td></td>     <th>coef</th>     <th>std err</th>      <th>z</th>      <th>P>|z|</th>  <th>[0.025</th>    <th>0.975]</th>  \n",
       "</tr>\n",
       "<tr>\n",
       "  <th>3</th>  <td>    0.0416</td> <td>    0.011</td> <td>    3.729</td> <td> 0.000</td> <td>    0.020</td> <td>    0.063</td>\n",
       "</tr>\n",
       "<tr>\n",
       "  <th>4</th>  <td>    0.6594</td> <td>    0.013</td> <td>   49.848</td> <td> 0.000</td> <td>    0.633</td> <td>    0.685</td>\n",
       "</tr>\n",
       "<tr>\n",
       "  <th>9</th>  <td>   -0.0274</td> <td>    0.011</td> <td>   -2.518</td> <td> 0.012</td> <td>   -0.049</td> <td>   -0.006</td>\n",
       "</tr>\n",
       "<tr>\n",
       "  <th>16</th> <td>    0.0583</td> <td>    0.011</td> <td>    5.435</td> <td> 0.000</td> <td>    0.037</td> <td>    0.079</td>\n",
       "</tr>\n",
       "<tr>\n",
       "  <th>23</th> <td>    0.0367</td> <td>    0.011</td> <td>    3.390</td> <td> 0.001</td> <td>    0.015</td> <td>    0.058</td>\n",
       "</tr>\n",
       "<tr>\n",
       "  <th>25</th> <td>   -0.1159</td> <td>    0.012</td> <td>   -9.902</td> <td> 0.000</td> <td>   -0.139</td> <td>   -0.093</td>\n",
       "</tr>\n",
       "<tr>\n",
       "  <th>26</th> <td>   -0.0392</td> <td>    0.010</td> <td>   -3.823</td> <td> 0.000</td> <td>   -0.059</td> <td>   -0.019</td>\n",
       "</tr>\n",
       "<tr>\n",
       "  <th>28</th> <td>   -0.1647</td> <td>    0.012</td> <td>  -13.529</td> <td> 0.000</td> <td>   -0.189</td> <td>   -0.141</td>\n",
       "</tr>\n",
       "<tr>\n",
       "  <th>29</th> <td>   -0.1226</td> <td>    0.013</td> <td>   -9.496</td> <td> 0.000</td> <td>   -0.148</td> <td>   -0.097</td>\n",
       "</tr>\n",
       "<tr>\n",
       "  <th>30</th> <td>    0.0616</td> <td>    0.013</td> <td>    4.760</td> <td> 0.000</td> <td>    0.036</td> <td>    0.087</td>\n",
       "</tr>\n",
       "<tr>\n",
       "  <th>32</th> <td>   -0.0882</td> <td>    0.011</td> <td>   -7.676</td> <td> 0.000</td> <td>   -0.111</td> <td>   -0.066</td>\n",
       "</tr>\n",
       "<tr>\n",
       "  <th>33</th> <td>   -0.1313</td> <td>    0.013</td> <td>  -10.033</td> <td> 0.000</td> <td>   -0.157</td> <td>   -0.106</td>\n",
       "</tr>\n",
       "<tr>\n",
       "  <th>35</th> <td>    0.1699</td> <td>    0.014</td> <td>   11.874</td> <td> 0.000</td> <td>    0.142</td> <td>    0.198</td>\n",
       "</tr>\n",
       "<tr>\n",
       "  <th>36</th> <td>   -0.0766</td> <td>    0.014</td> <td>   -5.638</td> <td> 0.000</td> <td>   -0.103</td> <td>   -0.050</td>\n",
       "</tr>\n",
       "<tr>\n",
       "  <th>37</th> <td>   -0.0984</td> <td>    0.012</td> <td>   -8.162</td> <td> 0.000</td> <td>   -0.122</td> <td>   -0.075</td>\n",
       "</tr>\n",
       "<tr>\n",
       "  <th>38</th> <td>    0.1198</td> <td>    0.012</td> <td>    9.643</td> <td> 0.000</td> <td>    0.095</td> <td>    0.144</td>\n",
       "</tr>\n",
       "<tr>\n",
       "  <th>39</th> <td>    0.1148</td> <td>    0.013</td> <td>    8.808</td> <td> 0.000</td> <td>    0.089</td> <td>    0.140</td>\n",
       "</tr>\n",
       "<tr>\n",
       "  <th>41</th> <td>    0.9254</td> <td>    0.043</td> <td>   21.574</td> <td> 0.000</td> <td>    0.841</td> <td>    1.010</td>\n",
       "</tr>\n",
       "</table>"
      ],
      "text/plain": [
       "<class 'statsmodels.iolib.summary.Summary'>\n",
       "\"\"\"\n",
       "                           Logit Regression Results                           \n",
       "==============================================================================\n",
       "Dep. Variable:                      y   No. Observations:                45211\n",
       "Model:                          Logit   Df Residuals:                    45193\n",
       "Method:                           MLE   Df Model:                           17\n",
       "Date:                Sun, 07 Feb 2021   Pseudo R-squ.:                 -0.7057\n",
       "Time:                        19:51:23   Log-Likelihood:                -27829.\n",
       "converged:                       True   LL-Null:                       -16315.\n",
       "Covariance Type:            nonrobust   LLR p-value:                     1.000\n",
       "==============================================================================\n",
       "                 coef    std err          z      P>|z|      [0.025      0.975]\n",
       "------------------------------------------------------------------------------\n",
       "3              0.0416      0.011      3.729      0.000       0.020       0.063\n",
       "4              0.6594      0.013     49.848      0.000       0.633       0.685\n",
       "9             -0.0274      0.011     -2.518      0.012      -0.049      -0.006\n",
       "16             0.0583      0.011      5.435      0.000       0.037       0.079\n",
       "23             0.0367      0.011      3.390      0.001       0.015       0.058\n",
       "25            -0.1159      0.012     -9.902      0.000      -0.139      -0.093\n",
       "26            -0.0392      0.010     -3.823      0.000      -0.059      -0.019\n",
       "28            -0.1647      0.012    -13.529      0.000      -0.189      -0.141\n",
       "29            -0.1226      0.013     -9.496      0.000      -0.148      -0.097\n",
       "30             0.0616      0.013      4.760      0.000       0.036       0.087\n",
       "32            -0.0882      0.011     -7.676      0.000      -0.111      -0.066\n",
       "33            -0.1313      0.013    -10.033      0.000      -0.157      -0.106\n",
       "35             0.1699      0.014     11.874      0.000       0.142       0.198\n",
       "36            -0.0766      0.014     -5.638      0.000      -0.103      -0.050\n",
       "37            -0.0984      0.012     -8.162      0.000      -0.122      -0.075\n",
       "38             0.1198      0.012      9.643      0.000       0.095       0.144\n",
       "39             0.1148      0.013      8.808      0.000       0.089       0.140\n",
       "41             0.9254      0.043     21.574      0.000       0.841       1.010\n",
       "==============================================================================\n",
       "\"\"\""
      ]
     },
     "execution_count": 45,
     "metadata": {},
     "output_type": "execute_result"
    }
   ],
   "source": [
    "logit_model_3.summary()"
   ]
  },
  {
   "cell_type": "code",
   "execution_count": 46,
   "metadata": {
    "ExecuteTime": {
     "end_time": "2021-02-07T14:21:27.722161Z",
     "start_time": "2021-02-07T14:21:27.710227Z"
    }
   },
   "outputs": [
    {
     "data": {
      "text/plain": [
       "array([[31547.,  8375.],\n",
       "       [  707.,  4582.]])"
      ]
     },
     "execution_count": 46,
     "metadata": {},
     "output_type": "execute_result"
    }
   ],
   "source": [
    "logit_model_3.pred_table()"
   ]
  },
  {
   "cell_type": "code",
   "execution_count": 47,
   "metadata": {
    "ExecuteTime": {
     "end_time": "2021-02-07T14:21:32.914911Z",
     "start_time": "2021-02-07T14:21:32.898957Z"
    }
   },
   "outputs": [
    {
     "data": {
      "text/html": [
       "<div>\n",
       "<style scoped>\n",
       "    .dataframe tbody tr th:only-of-type {\n",
       "        vertical-align: middle;\n",
       "    }\n",
       "\n",
       "    .dataframe tbody tr th {\n",
       "        vertical-align: top;\n",
       "    }\n",
       "\n",
       "    .dataframe thead th {\n",
       "        text-align: right;\n",
       "    }\n",
       "</style>\n",
       "<table border=\"1\" class=\"dataframe\">\n",
       "  <thead>\n",
       "    <tr style=\"text-align: right;\">\n",
       "      <th></th>\n",
       "      <th>Predicted 0</th>\n",
       "      <th>Predicted 1</th>\n",
       "    </tr>\n",
       "  </thead>\n",
       "  <tbody>\n",
       "    <tr>\n",
       "      <th>Actual 0</th>\n",
       "      <td>31547.0</td>\n",
       "      <td>8375.0</td>\n",
       "    </tr>\n",
       "    <tr>\n",
       "      <th>Actual 1</th>\n",
       "      <td>707.0</td>\n",
       "      <td>4582.0</td>\n",
       "    </tr>\n",
       "  </tbody>\n",
       "</table>\n",
       "</div>"
      ],
      "text/plain": [
       "          Predicted 0  Predicted 1\n",
       "Actual 0      31547.0       8375.0\n",
       "Actual 1        707.0       4582.0"
      ]
     },
     "execution_count": 47,
     "metadata": {},
     "output_type": "execute_result"
    }
   ],
   "source": [
    "cm_df = pd.DataFrame(logit_model_3.pred_table())\n",
    "cm_df.columns = [\"Predicted 0\", \"Predicted 1\"]\n",
    "cm_df = cm_df.rename(index={0:\"Actual 0\", 1:\"Actual 1\"})\n",
    "cm_df"
   ]
  },
  {
   "cell_type": "code",
   "execution_count": 48,
   "metadata": {
    "ExecuteTime": {
     "end_time": "2021-02-07T14:21:36.639726Z",
     "start_time": "2021-02-07T14:21:36.632744Z"
    }
   },
   "outputs": [
    {
     "data": {
      "text/plain": [
       "0.7991196832629227"
      ]
     },
     "execution_count": 48,
     "metadata": {},
     "output_type": "execute_result"
    }
   ],
   "source": [
    "logit3_accuracy = (cm_df.iloc[0,0] + cm_df.iloc[1,1])/ data.shape[0]\n",
    "logit3_accuracy"
   ]
  },
  {
   "cell_type": "code",
   "execution_count": 49,
   "metadata": {
    "ExecuteTime": {
     "end_time": "2021-02-07T14:21:39.946501Z",
     "start_time": "2021-02-07T14:21:39.940517Z"
    }
   },
   "outputs": [
    {
     "name": "stdout",
     "output_type": "stream",
     "text": [
      "The significant features for our logit model are ['day', 'duration', 'pdays_no_contact', 'job_services', 'education_secondary', 'education_unknown', 'housing_1', 'contact_telephone', 'contact_unknown', 'month_aug', 'month_feb', 'month_jan', 'month_jun', 'month_mar', 'month_may', 'month_nov', 'month_oct', 'poutcome_other']\n"
     ]
    }
   ],
   "source": [
    "all_cols = list(data.columns)\n",
    "\n",
    "final_cols = []\n",
    "\n",
    "for i in new_significant:\n",
    "    final_cols.append(all_cols[i])\n",
    "\n",
    "print(f\"The significant features for our logit model are {final_cols}\")"
   ]
  },
  {
   "cell_type": "markdown",
   "metadata": {
    "ExecuteTime": {
     "end_time": "2021-01-31T04:31:37.354724Z",
     "start_time": "2021-01-31T04:31:37.350729Z"
    }
   },
   "source": [
    "### Conclusion:"
   ]
  },
  {
   "cell_type": "markdown",
   "metadata": {},
   "source": [
    "###### The accuracy of the models are given in the below table`"
   ]
  },
  {
   "cell_type": "code",
   "execution_count": 50,
   "metadata": {
    "ExecuteTime": {
     "end_time": "2021-02-07T14:21:45.118396Z",
     "start_time": "2021-02-07T14:21:45.107431Z"
    }
   },
   "outputs": [
    {
     "data": {
      "text/html": [
       "<div>\n",
       "<style scoped>\n",
       "    .dataframe tbody tr th:only-of-type {\n",
       "        vertical-align: middle;\n",
       "    }\n",
       "\n",
       "    .dataframe tbody tr th {\n",
       "        vertical-align: top;\n",
       "    }\n",
       "\n",
       "    .dataframe thead th {\n",
       "        text-align: right;\n",
       "    }\n",
       "</style>\n",
       "<table border=\"1\" class=\"dataframe\">\n",
       "  <thead>\n",
       "    <tr style=\"text-align: right;\">\n",
       "      <th></th>\n",
       "      <th>Model</th>\n",
       "      <th>accuracy</th>\n",
       "    </tr>\n",
       "  </thead>\n",
       "  <tbody>\n",
       "    <tr>\n",
       "      <th>0</th>\n",
       "      <td>logistic regression model</td>\n",
       "      <td>0.899292</td>\n",
       "    </tr>\n",
       "    <tr>\n",
       "      <th>1</th>\n",
       "      <td>logit model</td>\n",
       "      <td>0.799120</td>\n",
       "    </tr>\n",
       "  </tbody>\n",
       "</table>\n",
       "</div>"
      ],
      "text/plain": [
       "                       Model  accuracy\n",
       "0  logistic regression model  0.899292\n",
       "1                logit model  0.799120"
      ]
     },
     "execution_count": 50,
     "metadata": {},
     "output_type": "execute_result"
    }
   ],
   "source": [
    "model_table = pd.DataFrame({\n",
    "    \"Model\": [\"logistic regression model\", \"logit model\"],\n",
    "    \"accuracy\": [test_accuracy, logit3_accuracy]\n",
    "})\n",
    "model_table"
   ]
  },
  {
   "cell_type": "code",
   "execution_count": null,
   "metadata": {},
   "outputs": [],
   "source": []
  }
 ],
 "metadata": {
  "kernelspec": {
   "display_name": "Python 3",
   "language": "python",
   "name": "python3"
  },
  "language_info": {
   "codemirror_mode": {
    "name": "ipython",
    "version": 3
   },
   "file_extension": ".py",
   "mimetype": "text/x-python",
   "name": "python",
   "nbconvert_exporter": "python",
   "pygments_lexer": "ipython3",
   "version": "3.8.3"
  },
  "varInspector": {
   "cols": {
    "lenName": 16,
    "lenType": 16,
    "lenVar": 40
   },
   "kernels_config": {
    "python": {
     "delete_cmd_postfix": "",
     "delete_cmd_prefix": "del ",
     "library": "var_list.py",
     "varRefreshCmd": "print(var_dic_list())"
    },
    "r": {
     "delete_cmd_postfix": ") ",
     "delete_cmd_prefix": "rm(",
     "library": "var_list.r",
     "varRefreshCmd": "cat(var_dic_list()) "
    }
   },
   "types_to_exclude": [
    "module",
    "function",
    "builtin_function_or_method",
    "instance",
    "_Feature"
   ],
   "window_display": false
  }
 },
 "nbformat": 4,
 "nbformat_minor": 4
}
